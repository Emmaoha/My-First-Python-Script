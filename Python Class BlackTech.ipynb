{
 "cells": [
  {
   "cell_type": "markdown",
   "id": "dd8d753c",
   "metadata": {},
   "source": [
    "#INDRODUCTION TO PYTHON"
   ]
  },
  {
   "cell_type": "code",
   "execution_count": 2,
   "id": "3d9611a9",
   "metadata": {},
   "outputs": [
    {
     "data": {
      "text/plain": [
       "4"
      ]
     },
     "execution_count": 2,
     "metadata": {},
     "output_type": "execute_result"
    }
   ],
   "source": [
    "2+2 "
   ]
  },
  {
   "cell_type": "code",
   "execution_count": 3,
   "id": "43314538",
   "metadata": {},
   "outputs": [
    {
     "name": "stdout",
     "output_type": "stream",
     "text": [
      "4\n"
     ]
    }
   ],
   "source": [
    "# Displaying output in python\n",
    "\n",
    "print(2+2)"
   ]
  },
  {
   "cell_type": "code",
   "execution_count": 4,
   "id": "009da3ab",
   "metadata": {},
   "outputs": [
    {
     "name": "stdout",
     "output_type": "stream",
     "text": [
      "Enter your Name: Chibuzo\n"
     ]
    },
    {
     "data": {
      "text/plain": [
       "'Chibuzo'"
      ]
     },
     "execution_count": 4,
     "metadata": {},
     "output_type": "execute_result"
    }
   ],
   "source": [
    "input(\"Enter your Name: \")"
   ]
  },
  {
   "cell_type": "code",
   "execution_count": 5,
   "id": "8b473124",
   "metadata": {},
   "outputs": [
    {
     "name": "stdout",
     "output_type": "stream",
     "text": [
      "Python is easy\n"
     ]
    }
   ],
   "source": [
    "print(\"Python is easy\")"
   ]
  },
  {
   "cell_type": "code",
   "execution_count": 6,
   "id": "7ab35a96",
   "metadata": {},
   "outputs": [],
   "source": [
    "# Variable are container for storing information\n",
    "num = 2+2\n",
    "# 1 Variables cannot start with numbers instead use letters ot underscore _\n",
    "# number = 2+2\n",
    "\n",
    "# 2 Variable can not use reserved of key words\n",
    "# input = 5\n",
    "\n",
    "# 3. Avoid spaces in between variable use underscore instead of space\n",
    "# first_name =\"Chibuzo\"\n",
    "\n",
    "# 4. do not use symbol in the variable name\n",
    "\n",
    "# 5. use meaningful and descriptive words\n",
    "# use Total Profit = 40 instead of tp = 40\n"
   ]
  },
  {
   "cell_type": "code",
   "execution_count": 9,
   "id": "36591216",
   "metadata": {},
   "outputs": [
    {
     "data": {
      "text/plain": [
       "4"
      ]
     },
     "execution_count": 9,
     "metadata": {},
     "output_type": "execute_result"
    }
   ],
   "source": [
    "X"
   ]
  },
  {
   "cell_type": "code",
   "execution_count": 10,
   "id": "1be0a381",
   "metadata": {},
   "outputs": [
    {
     "name": "stdout",
     "output_type": "stream",
     "text": [
      "4\n"
     ]
    }
   ],
   "source": [
    "print(X)"
   ]
  },
  {
   "cell_type": "code",
   "execution_count": 74,
   "id": "e9a0f53a",
   "metadata": {},
   "outputs": [],
   "source": [
    "# Data type\n",
    " # strings sequence of character. it is denoted by \"\", \"\"\"  \"\"\"\n",
    " # strings are immutable: cannot add or remove from it\n",
    "address = \"35 Jose street, ontario\"\n",
    "gender = \"Female\"\n",
    "message = \"\"\" \n",
    "Dear John,\n",
    "How are you doing?\n",
    "Python is easy as you can see\n",
    "\"\"\"\n",
    " # lists \n",
    " # dictionary\n",
    " # sets\n",
    "# turple\n",
    "# number\n",
    "# boolean\n",
    "# none"
   ]
  },
  {
   "cell_type": "code",
   "execution_count": 75,
   "id": "603e5b9f",
   "metadata": {},
   "outputs": [
    {
     "name": "stdout",
     "output_type": "stream",
     "text": [
      "35 Jose street, ontario\n"
     ]
    }
   ],
   "source": [
    "print(address)"
   ]
  },
  {
   "cell_type": "code",
   "execution_count": 5,
   "id": "51b40302",
   "metadata": {},
   "outputs": [
    {
     "data": {
      "text/plain": [
       "'J'"
      ]
     },
     "execution_count": 5,
     "metadata": {},
     "output_type": "execute_result"
    }
   ],
   "source": [
    "address[3]"
   ]
  },
  {
   "cell_type": "code",
   "execution_count": 6,
   "id": "eee0357f",
   "metadata": {},
   "outputs": [
    {
     "data": {
      "text/plain": [
       "'o'"
      ]
     },
     "execution_count": 6,
     "metadata": {},
     "output_type": "execute_result"
    }
   ],
   "source": [
    "address[-1]"
   ]
  },
  {
   "cell_type": "code",
   "execution_count": 7,
   "id": "5480fbe7",
   "metadata": {},
   "outputs": [
    {
     "data": {
      "text/plain": [
       "'o'"
      ]
     },
     "execution_count": 7,
     "metadata": {},
     "output_type": "execute_result"
    }
   ],
   "source": [
    "address[22\n",
    "    ]"
   ]
  },
  {
   "cell_type": "code",
   "execution_count": 8,
   "id": "b5e75e02",
   "metadata": {},
   "outputs": [
    {
     "data": {
      "text/plain": [
       "'onatrio'"
      ]
     },
     "execution_count": 8,
     "metadata": {},
     "output_type": "execute_result"
    }
   ],
   "source": [
    "# slicing - accessing more than one character\n",
    "address[16:23]"
   ]
  },
  {
   "cell_type": "code",
   "execution_count": 9,
   "id": "d4a764c6",
   "metadata": {},
   "outputs": [
    {
     "data": {
      "text/plain": [
       "'35 Jose street, onatrio'"
      ]
     },
     "execution_count": 9,
     "metadata": {},
     "output_type": "execute_result"
    }
   ],
   "source": [
    "address[:]"
   ]
  },
  {
   "cell_type": "code",
   "execution_count": 11,
   "id": "7b45214f",
   "metadata": {},
   "outputs": [
    {
     "data": {
      "text/plain": [
       "'35 Jose'"
      ]
     },
     "execution_count": 11,
     "metadata": {},
     "output_type": "execute_result"
    }
   ],
   "source": [
    "address[:7]"
   ]
  },
  {
   "cell_type": "code",
   "execution_count": 12,
   "id": "06e6f5b6",
   "metadata": {},
   "outputs": [
    {
     "data": {
      "text/plain": [
       "'3 oesre,oaro'"
      ]
     },
     "execution_count": 12,
     "metadata": {},
     "output_type": "execute_result"
    }
   ],
   "source": [
    "address[::2]"
   ]
  },
  {
   "cell_type": "code",
   "execution_count": 13,
   "id": "b3d59ad2",
   "metadata": {},
   "outputs": [
    {
     "data": {
      "text/plain": [
       "'Jose'"
      ]
     },
     "execution_count": 13,
     "metadata": {},
     "output_type": "execute_result"
    }
   ],
   "source": [
    "address[3:7]"
   ]
  },
  {
   "cell_type": "code",
   "execution_count": 14,
   "id": "54a6df1f",
   "metadata": {},
   "outputs": [
    {
     "data": {
      "text/plain": [
       "'13579'"
      ]
     },
     "execution_count": 14,
     "metadata": {},
     "output_type": "execute_result"
    }
   ],
   "source": [
    "numbers = \"123456789\"\n",
    "numbers[::2]    (when using positive the begining index is selected)"
   ]
  },
  {
   "cell_type": "code",
   "execution_count": 15,
   "id": "26622c95",
   "metadata": {},
   "outputs": [
    {
     "data": {
      "text/plain": [
       "'2468'"
      ]
     },
     "execution_count": 15,
     "metadata": {},
     "output_type": "execute_result"
    }
   ],
   "source": [
    "numbers[1::2]"
   ]
  },
  {
   "cell_type": "code",
   "execution_count": 30,
   "id": "0eabb1b4",
   "metadata": {},
   "outputs": [
    {
     "data": {
      "text/plain": [
       "' onatrio'"
      ]
     },
     "execution_count": 30,
     "metadata": {},
     "output_type": "execute_result"
    }
   ],
   "source": [
    "address[-8:]"
   ]
  },
  {
   "cell_type": "code",
   "execution_count": 31,
   "id": "2188070e",
   "metadata": {},
   "outputs": [
    {
     "data": {
      "text/plain": [
       "'onatri'"
      ]
     },
     "execution_count": 31,
     "metadata": {},
     "output_type": "execute_result"
    }
   ],
   "source": [
    "address[-7:-1]"
   ]
  },
  {
   "cell_type": "code",
   "execution_count": 35,
   "id": "5419e2ea",
   "metadata": {},
   "outputs": [
    {
     "data": {
      "text/plain": [
       "'ABC'"
      ]
     },
     "execution_count": 35,
     "metadata": {},
     "output_type": "execute_result"
    }
   ],
   "source": [
    "numbers1 = \"A:1, B:2, C:3\"\n",
    "numbers1[::5]"
   ]
  },
  {
   "cell_type": "code",
   "execution_count": 56,
   "id": "565b95de",
   "metadata": {},
   "outputs": [
    {
     "data": {
      "text/plain": [
       "'98765432'"
      ]
     },
     "execution_count": 56,
     "metadata": {},
     "output_type": "execute_result"
    }
   ],
   "source": [
    "data = \"123456789\"\n",
    "data[:0:-1]    (when using negative the stopping index is not selected )"
   ]
  },
  {
   "cell_type": "code",
   "execution_count": 57,
   "id": "553d8cf5",
   "metadata": {},
   "outputs": [
    {
     "data": {
      "text/plain": [
       "'98765432'"
      ]
     },
     "execution_count": 57,
     "metadata": {},
     "output_type": "execute_result"
    }
   ],
   "source": [
    "data[-1:-9:-1]"
   ]
  },
  {
   "cell_type": "code",
   "execution_count": 60,
   "id": "2e0d3e35",
   "metadata": {},
   "outputs": [
    {
     "data": {
      "text/plain": [
       "9"
      ]
     },
     "execution_count": 60,
     "metadata": {},
     "output_type": "execute_result"
    }
   ],
   "source": [
    "# counting number of characters in a string\n",
    "len(data)"
   ]
  },
  {
   "cell_type": "code",
   "execution_count": 61,
   "id": "be53c9b8",
   "metadata": {},
   "outputs": [
    {
     "data": {
      "text/plain": [
       "'35 Jose street, onatrio'"
      ]
     },
     "execution_count": 61,
     "metadata": {},
     "output_type": "execute_result"
    }
   ],
   "source": [
    "# string methods\n",
    "address"
   ]
  },
  {
   "cell_type": "code",
   "execution_count": 63,
   "id": "78318c1b",
   "metadata": {},
   "outputs": [
    {
     "data": {
      "text/plain": [
       "'35 JOSE STREET, ONATRIO'"
      ]
     },
     "execution_count": 63,
     "metadata": {},
     "output_type": "execute_result"
    }
   ],
   "source": [
    "address.upper()"
   ]
  },
  {
   "cell_type": "code",
   "execution_count": 65,
   "id": "6bcdc133",
   "metadata": {},
   "outputs": [
    {
     "data": {
      "text/plain": [
       "'35 jose street, onatrio'"
      ]
     },
     "execution_count": 65,
     "metadata": {},
     "output_type": "execute_result"
    }
   ],
   "source": [
    "address.casefold()"
   ]
  },
  {
   "cell_type": "code",
   "execution_count": 81,
   "id": "e3da08f6",
   "metadata": {},
   "outputs": [
    {
     "data": {
      "text/plain": [
       "16"
      ]
     },
     "execution_count": 81,
     "metadata": {},
     "output_type": "execute_result"
    }
   ],
   "source": [
    "address.index(\"ontario\")"
   ]
  },
  {
   "cell_type": "code",
   "execution_count": 82,
   "id": "80ff01c7",
   "metadata": {},
   "outputs": [
    {
     "data": {
      "text/plain": [
       "3"
      ]
     },
     "execution_count": 82,
     "metadata": {},
     "output_type": "execute_result"
    }
   ],
   "source": [
    "address.count(\"o\")"
   ]
  },
  {
   "cell_type": "code",
   "execution_count": 84,
   "id": "6dede72a",
   "metadata": {},
   "outputs": [
    {
     "data": {
      "text/plain": [
       "False"
      ]
     },
     "execution_count": 84,
     "metadata": {},
     "output_type": "execute_result"
    }
   ],
   "source": [
    "address.endswith(\"y\")"
   ]
  },
  {
   "cell_type": "code",
   "execution_count": 85,
   "id": "f63c3423",
   "metadata": {},
   "outputs": [
    {
     "data": {
      "text/plain": [
       "True"
      ]
     },
     "execution_count": 85,
     "metadata": {},
     "output_type": "execute_result"
    }
   ],
   "source": [
    "address.startswith(\"3\")"
   ]
  },
  {
   "cell_type": "code",
   "execution_count": 86,
   "id": "395e507b",
   "metadata": {},
   "outputs": [
    {
     "data": {
      "text/plain": [
       "3"
      ]
     },
     "execution_count": 86,
     "metadata": {},
     "output_type": "execute_result"
    }
   ],
   "source": [
    "address.find(\"J\")"
   ]
  },
  {
   "cell_type": "code",
   "execution_count": 88,
   "id": "bf8ca8d7",
   "metadata": {},
   "outputs": [
    {
     "data": {
      "text/plain": [
       "'35 Jose street, Lagos'"
      ]
     },
     "execution_count": 88,
     "metadata": {},
     "output_type": "execute_result"
    }
   ],
   "source": [
    "address.replace(\"ontario\", \"Lagos\")"
   ]
  },
  {
   "cell_type": "code",
   "execution_count": 90,
   "id": "b485e37c",
   "metadata": {},
   "outputs": [
    {
     "data": {
      "text/plain": [
       "'   Wale'"
      ]
     },
     "execution_count": 90,
     "metadata": {},
     "output_type": "execute_result"
    }
   ],
   "source": [
    "username = \"   Wale\"\n",
    "username"
   ]
  },
  {
   "cell_type": "code",
   "execution_count": 91,
   "id": "065bc19b",
   "metadata": {},
   "outputs": [
    {
     "data": {
      "text/plain": [
       "'Wale'"
      ]
     },
     "execution_count": 91,
     "metadata": {},
     "output_type": "execute_result"
    }
   ],
   "source": [
    "username.strip()"
   ]
  },
  {
   "cell_type": "code",
   "execution_count": 92,
   "id": "6885128e",
   "metadata": {},
   "outputs": [
    {
     "data": {
      "text/plain": [
       "'Wale'"
      ]
     },
     "execution_count": 92,
     "metadata": {},
     "output_type": "execute_result"
    }
   ],
   "source": [
    "username.lstrip()"
   ]
  },
  {
   "cell_type": "code",
   "execution_count": 93,
   "id": "db929c55",
   "metadata": {},
   "outputs": [
    {
     "data": {
      "text/plain": [
       "'   Wale'"
      ]
     },
     "execution_count": 93,
     "metadata": {},
     "output_type": "execute_result"
    }
   ],
   "source": [
    "username.rstrip()"
   ]
  },
  {
   "cell_type": "code",
   "execution_count": 94,
   "id": "d3e400b2",
   "metadata": {},
   "outputs": [
    {
     "data": {
      "text/plain": [
       "['Wale']"
      ]
     },
     "execution_count": 94,
     "metadata": {},
     "output_type": "execute_result"
    }
   ],
   "source": [
    "username.rsplit()"
   ]
  },
  {
   "cell_type": "code",
   "execution_count": 97,
   "id": "6bbf261e",
   "metadata": {},
   "outputs": [
    {
     "data": {
      "text/plain": [
       "['35', 'Jose', 'street,', 'ontario']"
      ]
     },
     "execution_count": 97,
     "metadata": {},
     "output_type": "execute_result"
    }
   ],
   "source": [
    "address.split()"
   ]
  },
  {
   "cell_type": "code",
   "execution_count": 100,
   "id": "fc8af0c7",
   "metadata": {},
   "outputs": [],
   "source": [
    "colors = [\"brown\", \"blue\", \"black\"]"
   ]
  },
  {
   "cell_type": "code",
   "execution_count": 103,
   "id": "0bb353e9",
   "metadata": {},
   "outputs": [
    {
     "data": {
      "text/plain": [
       "'brown'"
      ]
     },
     "execution_count": 103,
     "metadata": {},
     "output_type": "execute_result"
    }
   ],
   "source": [
    "colors.pop(0)"
   ]
  },
  {
   "cell_type": "code",
   "execution_count": 105,
   "id": "5e91fa96",
   "metadata": {},
   "outputs": [
    {
     "data": {
      "text/plain": [
       "'black'"
      ]
     },
     "execution_count": 105,
     "metadata": {},
     "output_type": "execute_result"
    }
   ],
   "source": [
    "colors.pop()"
   ]
  },
  {
   "cell_type": "code",
   "execution_count": 106,
   "id": "b22160ca",
   "metadata": {},
   "outputs": [
    {
     "data": {
      "text/plain": [
       "['blue']"
      ]
     },
     "execution_count": 106,
     "metadata": {},
     "output_type": "execute_result"
    }
   ],
   "source": [
    "colors"
   ]
  },
  {
   "cell_type": "code",
   "execution_count": 111,
   "id": "78507480",
   "metadata": {},
   "outputs": [],
   "source": [
    "colors.insert(0,\"red\")"
   ]
  },
  {
   "cell_type": "code",
   "execution_count": 112,
   "id": "fa030dfc",
   "metadata": {},
   "outputs": [
    {
     "data": {
      "text/plain": [
       "['red', 'blue', 'red']"
      ]
     },
     "execution_count": 112,
     "metadata": {},
     "output_type": "execute_result"
    }
   ],
   "source": [
    "colors"
   ]
  },
  {
   "cell_type": "code",
   "execution_count": 115,
   "id": "8faf000a",
   "metadata": {},
   "outputs": [],
   "source": [
    "colors.remove(\"red\")"
   ]
  },
  {
   "cell_type": "code",
   "execution_count": 116,
   "id": "b1716e1b",
   "metadata": {},
   "outputs": [
    {
     "data": {
      "text/plain": [
       "['blue']"
      ]
     },
     "execution_count": 116,
     "metadata": {},
     "output_type": "execute_result"
    }
   ],
   "source": [
    "colors"
   ]
  },
  {
   "cell_type": "code",
   "execution_count": 118,
   "id": "13f29674",
   "metadata": {},
   "outputs": [],
   "source": [
    "colors.insert(0,\"red\")"
   ]
  },
  {
   "cell_type": "code",
   "execution_count": 119,
   "id": "792b7d81",
   "metadata": {},
   "outputs": [],
   "source": [
    "colors.insert(3,\"green\")"
   ]
  },
  {
   "cell_type": "code",
   "execution_count": 120,
   "id": "299d8cc5",
   "metadata": {},
   "outputs": [
    {
     "data": {
      "text/plain": [
       "['red', 'blue', 'green']"
      ]
     },
     "execution_count": 120,
     "metadata": {},
     "output_type": "execute_result"
    }
   ],
   "source": [
    "colors"
   ]
  },
  {
   "cell_type": "code",
   "execution_count": 123,
   "id": "107e282c",
   "metadata": {},
   "outputs": [],
   "source": [
    "colors.append(\"black\")"
   ]
  },
  {
   "cell_type": "code",
   "execution_count": 124,
   "id": "046ee6e6",
   "metadata": {},
   "outputs": [
    {
     "name": "stdout",
     "output_type": "stream",
     "text": [
      "['red', 'blue', 'green', 'black']\n"
     ]
    }
   ],
   "source": [
    "print(colors)"
   ]
  },
  {
   "cell_type": "code",
   "execution_count": 127,
   "id": "fb2b6aac",
   "metadata": {},
   "outputs": [],
   "source": [
    "new_colors = colors.copy()"
   ]
  },
  {
   "cell_type": "code",
   "execution_count": 128,
   "id": "fa11cbfb",
   "metadata": {},
   "outputs": [
    {
     "data": {
      "text/plain": [
       "['red', 'blue', 'green', 'black']"
      ]
     },
     "execution_count": 128,
     "metadata": {},
     "output_type": "execute_result"
    }
   ],
   "source": [
    "new_colors"
   ]
  },
  {
   "cell_type": "code",
   "execution_count": 129,
   "id": "26649c4a",
   "metadata": {},
   "outputs": [],
   "source": [
    "colors.extend([1,2,3,4]) # used to combine two list"
   ]
  },
  {
   "cell_type": "code",
   "execution_count": 130,
   "id": "614c6004",
   "metadata": {},
   "outputs": [
    {
     "data": {
      "text/plain": [
       "['red', 'blue', 'green', 'black', 1, 2, 3, 4]"
      ]
     },
     "execution_count": 130,
     "metadata": {},
     "output_type": "execute_result"
    }
   ],
   "source": [
    "colors"
   ]
  },
  {
   "cell_type": "code",
   "execution_count": 131,
   "id": "3e34f679",
   "metadata": {},
   "outputs": [],
   "source": [
    "colors.reverse()"
   ]
  },
  {
   "cell_type": "code",
   "execution_count": 132,
   "id": "5b731b4a",
   "metadata": {},
   "outputs": [
    {
     "data": {
      "text/plain": [
       "[4, 3, 2, 1, 'black', 'green', 'blue', 'red']"
      ]
     },
     "execution_count": 132,
     "metadata": {},
     "output_type": "execute_result"
    }
   ],
   "source": [
    "colors"
   ]
  },
  {
   "cell_type": "code",
   "execution_count": 135,
   "id": "334a4174",
   "metadata": {},
   "outputs": [],
   "source": [
    "colors.remove(1)"
   ]
  },
  {
   "cell_type": "code",
   "execution_count": 136,
   "id": "ee792a01",
   "metadata": {},
   "outputs": [
    {
     "data": {
      "text/plain": [
       "[4, 3, 2, 'black', 'green', 'blue', 'red']"
      ]
     },
     "execution_count": 136,
     "metadata": {},
     "output_type": "execute_result"
    }
   ],
   "source": [
    "colors"
   ]
  },
  {
   "cell_type": "code",
   "execution_count": 137,
   "id": "f23091bd",
   "metadata": {},
   "outputs": [],
   "source": [
    "colors = ['red', 'blue', 'green', 'black']"
   ]
  },
  {
   "cell_type": "code",
   "execution_count": 13,
   "id": "643e3c33",
   "metadata": {},
   "outputs": [],
   "source": [
    "# Dictionary like creating table in SQL\n",
    "staff = {\n",
    "    \"name\":\"wale\", \"age\": 18,\n",
    "    \"address\":{\"state\":\"Lagos\", \"country\": \"Nigeria\"}\n",
    "\n",
    "}"
   ]
  },
  {
   "cell_type": "code",
   "execution_count": 11,
   "id": "cb07c71b",
   "metadata": {},
   "outputs": [
    {
     "data": {
      "text/plain": [
       "'wale'"
      ]
     },
     "execution_count": 11,
     "metadata": {},
     "output_type": "execute_result"
    }
   ],
   "source": [
    "staff[\"name\"]"
   ]
  },
  {
   "cell_type": "code",
   "execution_count": 14,
   "id": "d5fe8353",
   "metadata": {},
   "outputs": [
    {
     "data": {
      "text/plain": [
       "'Nigeria'"
      ]
     },
     "execution_count": 14,
     "metadata": {},
     "output_type": "execute_result"
    }
   ],
   "source": [
    "staff[\"address\"][\"country\"]"
   ]
  },
  {
   "cell_type": "code",
   "execution_count": 20,
   "id": "ba142927",
   "metadata": {},
   "outputs": [
    {
     "data": {
      "text/plain": [
       "{'name': 'wale',\n",
       " 'age': 18,\n",
       " 'address': {'state': 'Lagos', 'country': 'Nigeria'},\n",
       " 'gender': 'Male'}"
      ]
     },
     "execution_count": 20,
     "metadata": {},
     "output_type": "execute_result"
    }
   ],
   "source": [
    "staff"
   ]
  },
  {
   "cell_type": "code",
   "execution_count": 18,
   "id": "49c9da8e",
   "metadata": {},
   "outputs": [],
   "source": [
    "staff[\"gender\"] = \"Male\""
   ]
  },
  {
   "cell_type": "code",
   "execution_count": 19,
   "id": "8fc856b4",
   "metadata": {},
   "outputs": [
    {
     "data": {
      "text/plain": [
       "{'name': 'wale',\n",
       " 'age': 18,\n",
       " 'address': {'state': 'Lagos', 'country': 'Nigeria'},\n",
       " 'gender': 'Male'}"
      ]
     },
     "execution_count": 19,
     "metadata": {},
     "output_type": "execute_result"
    }
   ],
   "source": [
    "staff"
   ]
  },
  {
   "cell_type": "code",
   "execution_count": 22,
   "id": "ea744eb2",
   "metadata": {},
   "outputs": [
    {
     "data": {
      "text/plain": [
       "18"
      ]
     },
     "execution_count": 22,
     "metadata": {},
     "output_type": "execute_result"
    }
   ],
   "source": [
    "staff[\"age\"]"
   ]
  },
  {
   "cell_type": "code",
   "execution_count": 27,
   "id": "802621f6",
   "metadata": {},
   "outputs": [
    {
     "data": {
      "text/plain": [
       "{'state': 'Lagos', 'country': 'Nigeria'}"
      ]
     },
     "execution_count": 27,
     "metadata": {},
     "output_type": "execute_result"
    }
   ],
   "source": [
    "staff.get(\"address\")"
   ]
  },
  {
   "cell_type": "code",
   "execution_count": 28,
   "id": "ab0f8331",
   "metadata": {},
   "outputs": [
    {
     "data": {
      "text/plain": [
       "dict_keys(['name', 'age', 'address', 'gender'])"
      ]
     },
     "execution_count": 28,
     "metadata": {},
     "output_type": "execute_result"
    }
   ],
   "source": [
    "staff.keys()"
   ]
  },
  {
   "cell_type": "code",
   "execution_count": 29,
   "id": "1c255b16",
   "metadata": {},
   "outputs": [
    {
     "data": {
      "text/plain": [
       "dict_values(['wale', 18, {'state': 'Lagos', 'country': 'Nigeria'}, 'Male'])"
      ]
     },
     "execution_count": 29,
     "metadata": {},
     "output_type": "execute_result"
    }
   ],
   "source": [
    "staff.values()"
   ]
  },
  {
   "cell_type": "code",
   "execution_count": 30,
   "id": "835c276d",
   "metadata": {},
   "outputs": [
    {
     "data": {
      "text/plain": [
       "dict_items([('name', 'wale'), ('age', 18), ('address', {'state': 'Lagos', 'country': 'Nigeria'}), ('gender', 'Male')])"
      ]
     },
     "execution_count": 30,
     "metadata": {},
     "output_type": "execute_result"
    }
   ],
   "source": [
    "staff.items()"
   ]
  },
  {
   "cell_type": "code",
   "execution_count": 31,
   "id": "9f0696b2",
   "metadata": {},
   "outputs": [
    {
     "data": {
      "text/plain": [
       "'Male'"
      ]
     },
     "execution_count": 31,
     "metadata": {},
     "output_type": "execute_result"
    }
   ],
   "source": [
    "staff.pop(\"gender\")"
   ]
  },
  {
   "cell_type": "code",
   "execution_count": 32,
   "id": "167bc7b1",
   "metadata": {},
   "outputs": [
    {
     "data": {
      "text/plain": [
       "{'name': 'wale',\n",
       " 'age': 18,\n",
       " 'address': {'state': 'Lagos', 'country': 'Nigeria'}}"
      ]
     },
     "execution_count": 32,
     "metadata": {},
     "output_type": "execute_result"
    }
   ],
   "source": [
    "staff"
   ]
  },
  {
   "cell_type": "code",
   "execution_count": 33,
   "id": "c3308908",
   "metadata": {},
   "outputs": [
    {
     "data": {
      "text/plain": [
       "('address', {'state': 'Lagos', 'country': 'Nigeria'})"
      ]
     },
     "execution_count": 33,
     "metadata": {},
     "output_type": "execute_result"
    }
   ],
   "source": [
    "staff.popitem()"
   ]
  },
  {
   "cell_type": "code",
   "execution_count": 34,
   "id": "6b003f7a",
   "metadata": {},
   "outputs": [
    {
     "data": {
      "text/plain": [
       "{'name': 'wale', 'age': 18}"
      ]
     },
     "execution_count": 34,
     "metadata": {},
     "output_type": "execute_result"
    }
   ],
   "source": [
    "staff"
   ]
  },
  {
   "cell_type": "code",
   "execution_count": 36,
   "id": "a2e8961e",
   "metadata": {},
   "outputs": [
    {
     "data": {
      "text/plain": [
       "('age', 18)"
      ]
     },
     "execution_count": 36,
     "metadata": {},
     "output_type": "execute_result"
    }
   ],
   "source": [
    "staff.popitem()"
   ]
  },
  {
   "cell_type": "code",
   "execution_count": 37,
   "id": "e0202ff2",
   "metadata": {},
   "outputs": [
    {
     "data": {
      "text/plain": [
       "{'name': 'wale'}"
      ]
     },
     "execution_count": 37,
     "metadata": {},
     "output_type": "execute_result"
    }
   ],
   "source": [
    "staff"
   ]
  },
  {
   "cell_type": "code",
   "execution_count": 41,
   "id": "bb526a88",
   "metadata": {},
   "outputs": [],
   "source": [
    "staff.update({\"age\":21})"
   ]
  },
  {
   "cell_type": "code",
   "execution_count": 43,
   "id": "cee62bfa",
   "metadata": {},
   "outputs": [
    {
     "data": {
      "text/plain": [
       "{'name': 'wale', 'age': 21}"
      ]
     },
     "execution_count": 43,
     "metadata": {},
     "output_type": "execute_result"
    }
   ],
   "source": [
    "staff"
   ]
  },
  {
   "cell_type": "code",
   "execution_count": 47,
   "id": "b817870b",
   "metadata": {},
   "outputs": [],
   "source": [
    "staff.update({\"postcode\": 1234})"
   ]
  },
  {
   "cell_type": "code",
   "execution_count": 45,
   "id": "7908370f",
   "metadata": {},
   "outputs": [
    {
     "data": {
      "text/plain": [
       "{'name': 'wale', 'age': 21, 'postcode': '01234'}"
      ]
     },
     "execution_count": 45,
     "metadata": {},
     "output_type": "execute_result"
    }
   ],
   "source": [
    "staff"
   ]
  },
  {
   "cell_type": "code",
   "execution_count": 48,
   "id": "ccff5ba0",
   "metadata": {},
   "outputs": [
    {
     "data": {
      "text/plain": [
       "'Single'"
      ]
     },
     "execution_count": 48,
     "metadata": {},
     "output_type": "execute_result"
    }
   ],
   "source": [
    "staff.setdefault(\"status\", \"Single\")"
   ]
  },
  {
   "cell_type": "code",
   "execution_count": 49,
   "id": "b9dedb42",
   "metadata": {},
   "outputs": [
    {
     "data": {
      "text/plain": [
       "{'name': 'wale', 'age': 21, 'postcode': 1234, 'status': 'Single'}"
      ]
     },
     "execution_count": 49,
     "metadata": {},
     "output_type": "execute_result"
    }
   ],
   "source": [
    "staff"
   ]
  },
  {
   "cell_type": "code",
   "execution_count": 54,
   "id": "12b6b18a",
   "metadata": {},
   "outputs": [],
   "source": [
    "staff.update({\"email\": \"wale@gmail.com\"})"
   ]
  },
  {
   "cell_type": "code",
   "execution_count": 55,
   "id": "408449c4",
   "metadata": {},
   "outputs": [
    {
     "data": {
      "text/plain": [
       "{'name': 'wale',\n",
       " 'age': 21,\n",
       " 'postcode': 1234,\n",
       " 'status': 'Single',\n",
       " 'email': 'wale@gmail.com'}"
      ]
     },
     "execution_count": 55,
     "metadata": {},
     "output_type": "execute_result"
    }
   ],
   "source": [
    "staff"
   ]
  },
  {
   "cell_type": "code",
   "execution_count": 1,
   "id": "52b964a0",
   "metadata": {},
   "outputs": [],
   "source": [
    "greeting = \"Welcome to python\""
   ]
  },
  {
   "cell_type": "code",
   "execution_count": 4,
   "id": "5a69c5fb",
   "metadata": {},
   "outputs": [
    {
     "data": {
      "text/plain": [
       "'python'"
      ]
     },
     "execution_count": 4,
     "metadata": {},
     "output_type": "execute_result"
    }
   ],
   "source": [
    "greeting[11:17]"
   ]
  },
  {
   "cell_type": "code",
   "execution_count": 10,
   "id": "728f2a79",
   "metadata": {},
   "outputs": [],
   "source": [
    "sample = \"My name is Wale\""
   ]
  },
  {
   "cell_type": "code",
   "execution_count": 11,
   "id": "fbe4bfd7",
   "metadata": {},
   "outputs": [
    {
     "data": {
      "text/plain": [
       "'elaW'"
      ]
     },
     "execution_count": 11,
     "metadata": {},
     "output_type": "execute_result"
    }
   ],
   "source": [
    "sample[:-5:-1]"
   ]
  },
  {
   "cell_type": "code",
   "execution_count": 12,
   "id": "34f81096",
   "metadata": {},
   "outputs": [],
   "source": [
    "# 4 Rules for naming a variable\n",
    "# 1. Must not start with numeric or numbers can start with underscore\n",
    "# 2. Must not use keywords or reserved words\n",
    "# 3. Must not have space in between use underscore instead\n",
    "# 4. do not use symbol"
   ]
  },
  {
   "cell_type": "code",
   "execution_count": 29,
   "id": "7b92bea5",
   "metadata": {},
   "outputs": [],
   "source": [
    " name = \"Emmanuel Oha\""
   ]
  },
  {
   "cell_type": "code",
   "execution_count": 44,
   "id": "c4692ca7",
   "metadata": {},
   "outputs": [],
   "source": [
    "  age = \"13\""
   ]
  },
  {
   "cell_type": "code",
   "execution_count": 47,
   "id": "b2e0bbb0",
   "metadata": {},
   "outputs": [
    {
     "name": "stdout",
     "output_type": "stream",
     "text": [
      "My name is Emmanuel Oha\n",
      "<class 'str'>\n",
      "I am 13 years old\n",
      "<class 'str'>\n"
     ]
    }
   ],
   "source": [
    "print(\"My name is \" + name)\n",
    "print(type(name))\n",
    "print(\"I am \" + age + \" \" + \"years old\")\n",
    "print(type(\"age\"))"
   ]
  },
  {
   "cell_type": "code",
   "execution_count": null,
   "id": "fcf946ac",
   "metadata": {},
   "outputs": [],
   "source": [
    "\n"
   ]
  },
  {
   "cell_type": "code",
   "execution_count": 3,
   "id": "19f0ba88",
   "metadata": {},
   "outputs": [],
   "source": [
    "record = {'k1':[{'nest_key':['this is deep',['blacktech']]}]}"
   ]
  },
  {
   "cell_type": "code",
   "execution_count": 19,
   "id": "ac09b8b9",
   "metadata": {},
   "outputs": [
    {
     "data": {
      "text/plain": [
       "['blacktech']"
      ]
     },
     "execution_count": 19,
     "metadata": {},
     "output_type": "execute_result"
    }
   ],
   "source": [
    "record[\"k1\"][0][\"nest_key\"][1]"
   ]
  },
  {
   "cell_type": "code",
   "execution_count": 154,
   "id": "e3b0b246",
   "metadata": {},
   "outputs": [
    {
     "name": "stdout",
     "output_type": "stream",
     "text": [
      "My name is Chibuzo. I am 18 years old\n",
      "My name is Chibuzo I am  18 years old\n"
     ]
    },
    {
     "data": {
      "text/plain": [
       "'blacktech'"
      ]
     },
     "execution_count": 154,
     "metadata": {},
     "output_type": "execute_result"
    }
   ],
   "source": [
    "# Python Assignment\n",
    "# 1. \n",
    "greeting = \"Welcome to python\"\n",
    "# print out \"python\" from the code above using slicing\n",
    "greeting [-6:]\n",
    "greeting[11:]\n",
    "\n",
    "# 2. \n",
    "sample = 'My Name is Wale'\n",
    "# bring out the wale in the sample above in reverse eg. \"elaW\"\n",
    "# sample[:10:-1]\n",
    "sample[:-5:-1]\n",
    "\n",
    "\n",
    "# 3. mention 4 rules for naming a variable\n",
    "# 4. \n",
    "# Create 2 variables, one for storing your name and the other for storing your age.\n",
    "# Assuming your age is 18, print out eg. My name is wale. I am 18 years old.\n",
    "# where Wale represents your name and 18 represents your age\n",
    "name = \"Chibuzo\"\n",
    "age = 18\n",
    "print(f\"My name is {name}. I am {age} years old\")\n",
    "print(\"My name is\", name, \"I am \", age ,\"years old\")\n",
    "\n",
    "# 5. print out blacktech from the record below\n",
    "record ={'k1':[{'nest_key':['this is deep',['blacktech']]}]}\n",
    "record[\"k1\"][0][\"nest_key\"][1][0]"
   ]
  },
  {
   "cell_type": "code",
   "execution_count": 140,
   "id": "82722a86",
   "metadata": {},
   "outputs": [
    {
     "name": "stdout",
     "output_type": "stream",
     "text": [
      "{1, 2, 3}\n"
     ]
    }
   ],
   "source": [
    "# More data types\n",
    "    # Tuple -- is for storing data that cannot be changed, its denoted by ()\n",
    "days_of_the_week = (\"Monday\", \"Tuesday\", \"Wednessday\")\n",
    "days_of_the_week\n",
    "    # sets -- used to store unique data values\n",
    "numbers ={1,2,3,1,1,1,2,2,2,2,3,3,3,3,3,3}\n",
    "print(numbers)\n",
    "    # numbers \n",
    "    # none"
   ]
  },
  {
   "cell_type": "code",
   "execution_count": 144,
   "id": "38208364",
   "metadata": {},
   "outputs": [
    {
     "data": {
      "text/plain": [
       "{3}"
      ]
     },
     "execution_count": 144,
     "metadata": {},
     "output_type": "execute_result"
    }
   ],
   "source": [
    "x = {1,2,3}\n",
    "y = {3,4,5}\n",
    "# Union - combination of what is in x and y\n",
    "x.union(y)\n",
    "# intersection--  what is common to x and y\n",
    "x.intersection(y)"
   ]
  },
  {
   "cell_type": "code",
   "execution_count": 159,
   "id": "31fb9919",
   "metadata": {},
   "outputs": [
    {
     "data": {
      "text/plain": [
       "True"
      ]
     },
     "execution_count": 159,
     "metadata": {},
     "output_type": "execute_result"
    }
   ],
   "source": [
    "# strings = \"how are you doing\" \n",
    "# list = [1,2,3,3]\n",
    "# dictionary = {\"name\":\"wale\", \"age\": \"18\"}\n",
    "# tuple = (1,2,3,4)\n",
    "# sets = {1,2,3,4}\n",
    "# difference -what is in x that is not in y or what is in y that is not in x\n",
    "# x.difference(y)\n",
    "# y.difference(x)\n",
    "# symetrical difference -- what is in x and not in y and what is in y that is not in x\n",
    "# x.symmetric_difference(y)\n",
    "# add --is used for including values\n",
    "# y.add(8)\n",
    "# y\n",
    "# subset -- is having an item in another item\n",
    "x = {1}\n",
    "y = {1,2,3}\n",
    "x.issubset(y)"
   ]
  },
  {
   "cell_type": "code",
   "execution_count": 164,
   "id": "c6a2845d",
   "metadata": {},
   "outputs": [
    {
     "name": "stdout",
     "output_type": "stream",
     "text": [
      "You need to be an admin to perform operation\n"
     ]
    }
   ],
   "source": [
    "# Boolean = True or False\n",
    "is_admin = True\n",
    "if is_admin == False:\n",
    "    print(\"you can modify user data\")\n",
    "else:\n",
    "    print(\"You need to be an admin to perform operation\")\n",
    "    \n"
   ]
  },
  {
   "cell_type": "code",
   "execution_count": 166,
   "id": "52e84ead",
   "metadata": {},
   "outputs": [
    {
     "data": {
      "text/plain": [
       "int"
      ]
     },
     "execution_count": 166,
     "metadata": {},
     "output_type": "execute_result"
    }
   ],
   "source": [
    "# numbers\n",
    "age = 18 \n",
    "salary = 50000.1234527 \n",
    "type(age)"
   ]
  },
  {
   "cell_type": "code",
   "execution_count": 167,
   "id": "3e0fa48b",
   "metadata": {},
   "outputs": [
    {
     "data": {
      "text/plain": [
       "float"
      ]
     },
     "execution_count": 167,
     "metadata": {},
     "output_type": "execute_result"
    }
   ],
   "source": [
    "type(salary)"
   ]
  },
  {
   "cell_type": "code",
   "execution_count": 171,
   "id": "749d7555",
   "metadata": {},
   "outputs": [
    {
     "data": {
      "text/plain": [
       "3.141592653589793"
      ]
     },
     "execution_count": 171,
     "metadata": {},
     "output_type": "execute_result"
    }
   ],
   "source": [
    "import math\n",
    "math.pi"
   ]
  },
  {
   "cell_type": "code",
   "execution_count": 173,
   "id": "2f34f537",
   "metadata": {},
   "outputs": [
    {
     "name": "stdout",
     "output_type": "stream",
     "text": [
      "50000.123\n"
     ]
    }
   ],
   "source": [
    "# formating floating number\n",
    "print(\"%.3f\" %salary)"
   ]
  },
  {
   "cell_type": "code",
   "execution_count": 174,
   "id": "ac82b19b",
   "metadata": {},
   "outputs": [
    {
     "name": "stdout",
     "output_type": "stream",
     "text": [
      "3.14\n"
     ]
    }
   ],
   "source": [
    "print(\"%.2f\" %math.pi)"
   ]
  },
  {
   "cell_type": "code",
   "execution_count": null,
   "id": "271bc36e",
   "metadata": {},
   "outputs": [],
   "source": [
    "total_cost+price = None"
   ]
  },
  {
   "cell_type": "code",
   "execution_count": 190,
   "id": "41bfa81c",
   "metadata": {},
   "outputs": [
    {
     "name": "stderr",
     "output_type": "stream",
     "text": [
      "<>:23: SyntaxWarning: \"is\" with a literal. Did you mean \"==\"?\n",
      "<>:23: SyntaxWarning: \"is\" with a literal. Did you mean \"==\"?\n",
      "C:\\Users\\CEO\\AppData\\Local\\Temp\\ipykernel_2444\\3523947666.py:23: SyntaxWarning: \"is\" with a literal. Did you mean \"==\"?\n",
      "  5 is 4\n"
     ]
    },
    {
     "data": {
      "text/plain": [
       "False"
      ]
     },
     "execution_count": 190,
     "metadata": {},
     "output_type": "execute_result"
    }
   ],
   "source": [
    "# Operators -- are symbols used to perform operations\n",
    "# arithmetic +, -, /,*,//,%.**\n",
    "5 + 6\n",
    "7 - 3\n",
    "3 * 5\n",
    "5 // 2  #floor division\n",
    "8 % 3\n",
    "# 3 ** 2\n",
    "# comparism operator <, >, <=, >=, ==, !=\n",
    "# Logical operator  and, or , not\n",
    "# assignment operator +=, -=, /=, *=, %=\n",
    "x = 5\n",
    "y = 2\n",
    "x *= y\n",
    "x\n",
    "x -= y\n",
    "x\n",
    "# membership operator (in) to check if an item belong to a list and you normally use in operator\n",
    "fruits = [\"apple\", \"orange\", \"pawpaw\"]\n",
    "\"wale\" in fruits\n",
    "# identity operator (is) for checking if two values are the same\n",
    "\n",
    "5 is 4"
   ]
  },
  {
   "cell_type": "code",
   "execution_count": 192,
   "id": "aa5078dd",
   "metadata": {},
   "outputs": [
    {
     "name": "stdout",
     "output_type": "stream",
     "text": [
      "you can vote\n"
     ]
    }
   ],
   "source": [
    "#control flow is to a condition and specify what happens if it is met or not\n",
    "age = 18\n",
    "if age >= 18:\n",
    "    print(\"you can vote\")\n",
    "else:\n",
    "    print(\"Not eligible\")\n",
    "    \n"
   ]
  },
  {
   "cell_type": "code",
   "execution_count": 211,
   "id": "db041376",
   "metadata": {},
   "outputs": [
    {
     "name": "stdout",
     "output_type": "stream",
     "text": [
      "Positive\n"
     ]
    }
   ],
   "source": [
    "number = 5\n",
    "if number > 0:\n",
    "    print(\"Positive\")\n",
    "elif number < 0:\n",
    "    print(\"Negative\")\n",
    "else: print(\"Invalid\")\n",
    "       "
   ]
  },
  {
   "cell_type": "code",
   "execution_count": 124,
   "id": "29246cc1",
   "metadata": {},
   "outputs": [
    {
     "name": "stdout",
     "output_type": "stream",
     "text": [
      "132\n",
      "Invalid\n"
     ]
    }
   ],
   "source": [
    "number = input(number)\n",
    "match(number):\n",
    "    case \" number > 0\":\n",
    "        print(\"Positive\")\n",
    "    case \"number < 0\":\n",
    "        print(\"Negative\")\n",
    "    case _:\n",
    "        print(\"Invalid\")"
   ]
  },
  {
   "cell_type": "code",
   "execution_count": 227,
   "id": "b889783b",
   "metadata": {},
   "outputs": [
    {
     "name": "stdout",
     "output_type": "stream",
     "text": [
      "enter gradeb\n",
      "Good\n"
     ]
    }
   ],
   "source": [
    "grade = input(\"enter grade\")\n",
    "\n",
    "match(grade.upper()):\n",
    "    case \"A\":\n",
    "        print(\"Excellent\")\n",
    "    case \"B\":\n",
    "        print(\"Good\")\n",
    "    case _:\n",
    "        print(\"Invalid\")"
   ]
  },
  {
   "cell_type": "code",
   "execution_count": 238,
   "id": "e8f9b2b8",
   "metadata": {},
   "outputs": [
    {
     "name": "stdout",
     "output_type": "stream",
     "text": [
      "1\n",
      "2\n",
      "3\n",
      "4\n",
      "5\n",
      "6\n",
      "7\n",
      "8\n",
      "9\n",
      "10\n",
      "2\n",
      "4\n",
      "6\n",
      "8\n",
      "10\n"
     ]
    }
   ],
   "source": [
    "# Loop is used for iteration (repeating a task) until certain condition is met\n",
    "# while loop used when you dont know how man iteration is to be done\n",
    " #it has 4 condition\n",
    "#     1. initial value\n",
    "#     2. condition\n",
    "#     3. action\n",
    "#     4. increament\n",
    "# for loop\n",
    "\n",
    "x = 1\n",
    "while x <= 10:\n",
    "    print(x)\n",
    "    x += 1\n",
    "    \n",
    "x = 2\n",
    "while x <= 10:\n",
    "    print(x)\n",
    "    x += 2\n"
   ]
  },
  {
   "cell_type": "code",
   "execution_count": 245,
   "id": "0b8093eb",
   "metadata": {},
   "outputs": [
    {
     "name": "stdout",
     "output_type": "stream",
     "text": [
      "enter usernamewale\n",
      "enter password123456\n",
      "Login Successful\n"
     ]
    }
   ],
   "source": [
    "username = input(\"enter username\")\n",
    "password = input(\"enter password\")\n",
    "stored_username = \"wale\"\n",
    "stored_password = \"123456\"\n",
    "if username == stored_username and len(username) >3:\n",
    "    if password == stored_password:\n",
    "        print(\"Login Successful\")\n",
    "    else:\n",
    "        print(\"wrong password\")\n",
    "else:\n",
    "    print(\"wrong username\")"
   ]
  },
  {
   "cell_type": "code",
   "execution_count": 251,
   "id": "d864ff95",
   "metadata": {},
   "outputs": [
    {
     "name": "stdout",
     "output_type": "stream",
     "text": [
      "enter usernameWale\n",
      "enter password123456\n",
      "wrong credentials\n"
     ]
    }
   ],
   "source": [
    "username = input(\"enter username\")\n",
    "password = input(\"enter password\")\n",
    "stored_username = \"wale\"\n",
    "stored_password = \"123456\"\n",
    "if username == stored_username and len(username) >3 and password == stored_password:\n",
    "            print(\"Login Successful\")\n",
    "else:\n",
    "    print(\"wrong credentials\")"
   ]
  },
  {
   "cell_type": "code",
   "execution_count": 255,
   "id": "39a93987",
   "metadata": {},
   "outputs": [
    {
     "name": "stdout",
     "output_type": "stream",
     "text": [
      "1\n",
      "2\n",
      "3\n",
      "4\n",
      "5\n"
     ]
    }
   ],
   "source": [
    "# for loop\n",
    "numbers = [1,2,3,4,5]\n",
    "for i in numbers:\n",
    "    print(i)"
   ]
  },
  {
   "cell_type": "code",
   "execution_count": 9,
   "id": "65075c79",
   "metadata": {},
   "outputs": [
    {
     "name": "stdout",
     "output_type": "stream",
     "text": [
      "1\n",
      "2\n",
      "3\n",
      "4\n",
      "5\n"
     ]
    }
   ],
   "source": [
    "numbers = [1,2,3,4,5]\n",
    "for i in numbers:\n",
    "    print(i)"
   ]
  },
  {
   "cell_type": "code",
   "execution_count": 259,
   "id": "5f5ccf8a",
   "metadata": {},
   "outputs": [
    {
     "name": "stdout",
     "output_type": "stream",
     "text": [
      "2\n",
      "4\n"
     ]
    }
   ],
   "source": [
    "# print even numbers\n",
    "# As a layman follow this method\n",
    "# go through the numbers\n",
    "# check each number if they are divisible by 2 without remainder \n",
    "# show the ones that meet the condition\n",
    "numbers = [1,2,3,4,5]\n",
    "for i in numbers:\n",
    "    if i % 2 == 0:\n",
    "        print(i)"
   ]
  },
  {
   "cell_type": "code",
   "execution_count": null,
   "id": "8874086f",
   "metadata": {},
   "outputs": [],
   "source": [
    "1. create a program that displays a multiplication table\n",
    "eg. 2 x 1 = 2\n",
    "    2 x 2 = 4\n",
    "up to 2 x 12 = 24\n",
    "\n",
    "NB: Do not write out the table one by one. Use loop.\n",
    "\n",
    "\n",
    "2. create a program that finds the largest of 3 numbers\n",
    "\n",
    "3.  create a program that take a score and show the grade using if else or match case:\n",
    "90 - 100 (\"Grade A\")\n",
    "70 - 89  (\"Grade B\")\n",
    "50 - 69 (\"Grade c\")\n",
    "30 - 49 (\"Grade E\")\n",
    "0 - 29  (\"Grade E\")\n",
    "\n",
    "so if I enter any number as score it show the corresponding grade\n",
    "\n",
    "3. Create a program that accepts 2 numbers and an operator eg. 5 6, +\n",
    "then perform an operation based on what the user enters eg 5 + 6\n",
    "if the user enters 2, 8, * it should return 2 * 8\n",
    "and show the answer in console\n",
    "\n",
    "4. create a program that removes a duplicate from an array\n",
    "eg. numbers = [2,1,3,1,4,6,1,8,2,1,3,4]\n",
    "\n",
    "\n",
    "5. create a program that checks if a word is palindrome\n",
    "ie. it is the same when you spell it backward\n",
    "eg. madam, eye"
   ]
  },
  {
   "cell_type": "code",
   "execution_count": 19,
   "id": "96dce733",
   "metadata": {},
   "outputs": [
    {
     "name": "stdout",
     "output_type": "stream",
     "text": [
      "2 x 1 = 2\n",
      "2 x 2 = 4\n",
      "2 x 3 = 6\n",
      "2 x 4 = 8\n",
      "2 x 5 = 10\n",
      "2 x 6 = 12\n",
      "2 x 7 = 14\n",
      "2 x 8 = 16\n",
      "2 x 9 = 18\n",
      "2 x 10 = 20\n",
      "2 x 11 = 22\n",
      "2 x 12 = 24\n"
     ]
    }
   ],
   "source": [
    "# 1. create a program that displays a multiplication table\n",
    "# eg. 2 x 1 = 2\n",
    "#     2 x 2 = 4\n",
    "# up to 2 x 12 = 24\n",
    "\n",
    "# NB: Do not write out the table one by one. Use loop.\n",
    "x = 2\n",
    "# numbers = [1,2,3,4,5,6,7,8,9,10,11,12]\n",
    "# for i in numbers:\n",
    "for i in range(1,13):\n",
    "#     print( x , \"*\", i , \"=\", x*i) \n",
    "    print(f\"{x} x {i} = {x * i}\")\n"
   ]
  },
  {
   "cell_type": "code",
   "execution_count": 87,
   "id": "3f594a0a",
   "metadata": {},
   "outputs": [
    {
     "data": {
      "text/plain": [
       "100"
      ]
     },
     "execution_count": 87,
     "metadata": {},
     "output_type": "execute_result"
    }
   ],
   "source": [
    "# 2. create a program that finds the largest of 3 numbers\n",
    "x = 3\n",
    "y = 8\n",
    "z = 9\n",
    "\n",
    "# if x>=y and x>=z:\n",
    "#      print({x})\n",
    "# elif y>=x and y>=z:\n",
    "#         print(\"Largest\" \"=\",{y})\n",
    "# elif z>=x and z>=y:\n",
    "# #         print(f\"Largest {z}\")\n",
    "# #           print(z, \"is the largest\")\n",
    "#           print(\"The largest is \", z)\n",
    "# else:\n",
    "#     print(\"No Largest number\")\n",
    "# What if we have upto 1000 numbers and we are to pick the largest \n",
    "# the Psuedo code\n",
    "#     1. pick first number and compare to second number\n",
    "#     2. the one that is largest among them, compare it to the next number\n",
    "#     3. if the same number is larger, it remains the largest\n",
    "#     4. continuie to the end\n",
    "x = [100, 56, 0 ,12, 80, 101]\n",
    "largest = x[0]\n",
    "largest\n",
    "# for i in x:\n",
    "#     if i > largest:\n",
    "#         largest = i\n",
    "#         print(\"the largest is \", largest)\n",
    "\n"
   ]
  },
  {
   "cell_type": "code",
   "execution_count": 117,
   "id": "2c84d2e1",
   "metadata": {},
   "outputs": [
    {
     "name": "stdout",
     "output_type": "stream",
     "text": [
      "grade90\n",
      "A\n"
     ]
    }
   ],
   "source": [
    "# 3.  create a program that take a score and show the grade using if else or match case:\n",
    "# 90 - 100 (\"Grade A\")\n",
    "# 70 - 89  (\"Grade B\")\n",
    "# 50 - 69 (\"Grade c\")\n",
    "# 30 - 49 (\"Grade E\")\n",
    "# 0 - 29  (\"Grade E\")\n",
    "\n",
    "grade = input(\"grade\")\n",
    "if grade >= \"90\":\n",
    "    print(\"A\")\n",
    "else: \n",
    "    if grade >=\"70\":\n",
    "         print(\"B\")\n",
    "    else: \n",
    "        if grade >=\"50\":\n",
    "             print(\"C\")\n",
    "        else: \n",
    "            if grade >=\"0\":\n",
    "                 print(\"E\")"
   ]
  },
  {
   "cell_type": "code",
   "execution_count": 111,
   "id": "60feca1e",
   "metadata": {},
   "outputs": [
    {
     "name": "stdout",
     "output_type": "stream",
     "text": [
      "grade56\n",
      "C\n",
      "E\n"
     ]
    }
   ],
   "source": [
    "grade = input(\"grade\")\n",
    "if grade >= \"90\":\n",
    "    print(\"A\")\n",
    "elif grade >=\"70\":\n",
    "         print(\"B\")\n",
    "elif grade >=\"50\":\n",
    "             print(\"C\")\n",
    "else : grade >=\"0\"\n",
    "print(\"E\")"
   ]
  },
  {
   "cell_type": "code",
   "execution_count": 90,
   "id": "ff384c95",
   "metadata": {},
   "outputs": [
    {
     "name": "stdout",
     "output_type": "stream",
     "text": [
      "grade69\n",
      "C\n"
     ]
    }
   ],
   "source": [
    "grade = input(\"grade\")\n",
    "match(grade):\n",
    "        case _ if grade >= \"90\": \n",
    "            print(\"A\")\n",
    "        case _ if grade >=\"70\":\n",
    "             print(\"B\")\n",
    "        case _ if grade >=\"50\":\n",
    "             print(\"C\")\n",
    "        case _  if grade >=\"30\":\n",
    "             print(\"D\")\n",
    "        case _  if grade >=\"0\":\n",
    "             print(\"E\")"
   ]
  },
  {
   "cell_type": "code",
   "execution_count": null,
   "id": "c3481e2e",
   "metadata": {},
   "outputs": [],
   "source": [
    "# 4. Create a program that accepts 2 numbers and an operator eg. 5 6, +\n",
    "# then perform an operation based on what the user enters eg 5 + 6\n",
    "# if the user enters 2, 8, * it should return 2 * 8\n",
    "# and show the answer in console"
   ]
  },
  {
   "cell_type": "code",
   "execution_count": 64,
   "id": "c383c1ab",
   "metadata": {},
   "outputs": [
    {
     "ename": "SyntaxError",
     "evalue": "invalid syntax (2540263961.py, line 9)",
     "output_type": "error",
     "traceback": [
      "\u001b[1;36m  Cell \u001b[1;32mIn[64], line 9\u001b[1;36m\u001b[0m\n\u001b[1;33m    result = {x} {z} {y}\u001b[0m\n\u001b[1;37m                 ^\u001b[0m\n\u001b[1;31mSyntaxError\u001b[0m\u001b[1;31m:\u001b[0m invalid syntax\n"
     ]
    }
   ],
   "source": [
    "# 3. Create a program that accepts 2 numbers and an operator eg. 5 6, +\n",
    "# then perform an operation based on what the user enters eg 5 + 6\n",
    "# if the user enters 2, 8, * it should return 2 * 8\n",
    "# and show the answer in console\n",
    "x = float(input(\"enter first number: \"))\n",
    "y = float(input(\"enter second number: \"))\n",
    "z = input(\"enter z (+,  -, /, *, //, %, **): \")\n",
    "# if z == \"+\" :\n",
    "result = {x} {z} {y} \n",
    "    print(result)\n",
    "#                 print(f\"{x},{z},{y})\n",
    "# else: \n",
    "#     print(\"0\")\n"
   ]
  },
  {
   "cell_type": "code",
   "execution_count": 143,
   "id": "c436ee57",
   "metadata": {},
   "outputs": [
    {
     "name": "stdout",
     "output_type": "stream",
     "text": [
      "[2, 1, 3, 4, 6, 8]\n"
     ]
    }
   ],
   "source": [
    "# 5. create a program that removes a duplicate from an array\n",
    "# eg. numbers = [2,1,3,1,4,6,1,8,2,1,3,4]\n",
    "# method 1\n",
    "numbers = [2,1,3,1,4,6,1,8,2,1,3,4]\n",
    "#     print(set(numbers))\n",
    "# method 2\n",
    "basket = []\n",
    "for i in numbers:\n",
    "    if i not in basket:\n",
    "        basket.append(i)\n",
    "print(basket)\n"
   ]
  },
  {
   "cell_type": "code",
   "execution_count": 149,
   "id": "5509e4e2",
   "metadata": {},
   "outputs": [
    {
     "name": "stdout",
     "output_type": "stream",
     "text": [
      "Enter a word: eye\n",
      "'eye' is a palindrome.\n"
     ]
    }
   ],
   "source": [
    "# 5. create a program that checks if a word is palindrome\n",
    "# ie. it is the same when you spell it backward\n",
    "# eg. madam, eye\n",
    "\n",
    "def is_palindrome(word):\n",
    "    # Remove spaces and convert the word to lowercase for accurate palindrome check\n",
    "    word = word.replace(\" \", \"\").lower()\n",
    "    \n",
    "    # Compare the word with its reverse\n",
    "    return word == word[::-1]\n",
    "\n",
    "# Input a word to check if it's a palindrome\n",
    "word = input(\"Enter a word: \")\n",
    "\n",
    "if is_palindrome(word):\n",
    "    print(f\"'{word}' is a palindrome.\")\n",
    "else:\n",
    "    print(f\"'{word}' is not a palindrome.\")\n"
   ]
  },
  {
   "cell_type": "code",
   "execution_count": 148,
   "id": "6cd3843d",
   "metadata": {},
   "outputs": [
    {
     "name": "stdout",
     "output_type": "stream",
     "text": [
      "Enter a word: eye\n",
      "'eye' is a palindrome.\n"
     ]
    }
   ],
   "source": [
    "def is_palindrome(word):\n",
    "    word = word.replace(\" \", \"\").lower()\n",
    "\n",
    "    return word == word[::-1]\n",
    "word = input(\"Enter a word: \")\n",
    "if is_palindrome(word):\n",
    "    print(f\"'{word}' is a palindrome.\")\n",
    "else:\n",
    "    print(f\"'{word}' is not a palindrome.\")"
   ]
  },
  {
   "cell_type": "code",
   "execution_count": 203,
   "id": "26dbd6bd",
   "metadata": {},
   "outputs": [],
   "source": [
    "def check_palindrome(word):\n",
    "    reverse_word = word[::-1]\n",
    "    if word == reverse_word:\n",
    "        print(\"Is palindrome\")\n",
    "    else:\n",
    "        print(\"Not palindrome\")\n",
    "    \n",
    "    "
   ]
  },
  {
   "cell_type": "code",
   "execution_count": 204,
   "id": "fdca59a8",
   "metadata": {},
   "outputs": [
    {
     "name": "stdout",
     "output_type": "stream",
     "text": [
      "Is palindrome\n"
     ]
    }
   ],
   "source": [
    "check_palindrome(\"malam\")"
   ]
  },
  {
   "cell_type": "code",
   "execution_count": 164,
   "id": "511c489d",
   "metadata": {},
   "outputs": [
    {
     "name": "stdout",
     "output_type": "stream",
     "text": [
      "Enter the first number: 1\n",
      "Enter the second number: 1\n",
      "Enter an operator (+, -, *, /): +\n"
     ]
    }
   ],
   "source": [
    "num1 = float(input(\"Enter the first number: \"))\n",
    "num2 = float(input(\"Enter the second number: \"))\n",
    "operator = input(\"Enter an operator (+, -, *, /): \")\n",
    "\n",
    "# Perform the operation based on the operator\n",
    "if operator == \"+\":\n",
    "    result = num1 + num2"
   ]
  },
  {
   "cell_type": "code",
   "execution_count": null,
   "id": "9d01c20c",
   "metadata": {},
   "outputs": [],
   "source": []
  },
  {
   "cell_type": "code",
   "execution_count": 24,
   "id": "abea8b5b",
   "metadata": {},
   "outputs": [
    {
     "name": "stdout",
     "output_type": "stream",
     "text": [
      "2 x 1 = 2\n",
      "2 x 2 = 4\n",
      "2 x 3 = 6\n",
      "2 x 4 = 8\n",
      "2 x 5 = 10\n",
      "2 x 6 = 12\n",
      "2 x 7 = 14\n",
      "2 x 8 = 16\n",
      "2 x 9 = 18\n",
      "2 x 10 = 20\n",
      "2 x 11 = 22\n",
      "2 x 12 = 24\n"
     ]
    }
   ],
   "source": [
    "number = 1\n",
    "x = 2\n",
    "while number <= 12:\n",
    "    print(f\"{x} x {number} = {x*number}\")\n",
    "    number = number + 1\n",
    "#      print(f\"{x} x {i} = {x * i}\")\n"
   ]
  },
  {
   "cell_type": "code",
   "execution_count": 120,
   "id": "7b2597c6",
   "metadata": {},
   "outputs": [
    {
     "name": "stdout",
     "output_type": "stream",
     "text": [
      "9059\n"
     ]
    },
    {
     "ename": "TypeError",
     "evalue": "'>=' not supported between instances of 'str' and 'int'",
     "output_type": "error",
     "traceback": [
      "\u001b[1;31m---------------------------------------------------------------------------\u001b[0m",
      "\u001b[1;31mTypeError\u001b[0m                                 Traceback (most recent call last)",
      "Cell \u001b[1;32mIn[120], line 3\u001b[0m\n\u001b[0;32m      1\u001b[0m grade \u001b[38;5;241m=\u001b[39m \u001b[38;5;28minput\u001b[39m(grade)\n\u001b[0;32m      2\u001b[0m \u001b[38;5;28;01mmatch\u001b[39;00m(grade):\n\u001b[1;32m----> 3\u001b[0m         \u001b[38;5;28;01mcase\u001b[39;00m\u001b[38;5;250m \u001b[39m\u001b[38;5;28;01m_\u001b[39;00m \u001b[38;5;28;01mif\u001b[39;00m grade \u001b[38;5;241m>\u001b[39m\u001b[38;5;241m=\u001b[39m \u001b[38;5;241m90\u001b[39m: \n\u001b[0;32m      4\u001b[0m             \u001b[38;5;28mprint\u001b[39m(\u001b[38;5;124m\"\u001b[39m\u001b[38;5;124mA\u001b[39m\u001b[38;5;124m\"\u001b[39m)\n\u001b[0;32m      5\u001b[0m         \u001b[38;5;28;01mcase\u001b[39;00m\u001b[38;5;250m \u001b[39m\u001b[38;5;28;01m_\u001b[39;00m \u001b[38;5;28;01mif\u001b[39;00m grade \u001b[38;5;241m>\u001b[39m\u001b[38;5;241m=\u001b[39m\u001b[38;5;241m70\u001b[39m:\n\u001b[0;32m      6\u001b[0m              \u001b[38;5;28mprint\u001b[39m(\u001b[38;5;124m\"\u001b[39m\u001b[38;5;124mB\u001b[39m\u001b[38;5;124m\"\u001b[39m)\n\u001b[0;32m      7\u001b[0m         \u001b[38;5;28;01mcase\u001b[39;00m\u001b[38;5;250m \u001b[39m\u001b[38;5;28;01m_\u001b[39;00m \u001b[38;5;28;01mif\u001b[39;00m grade \u001b[38;5;241m>\u001b[39m\u001b[38;5;241m=\u001b[39m\u001b[38;5;241m50\u001b[39m:\n\u001b[0;32m      8\u001b[0m              \u001b[38;5;28mprint\u001b[39m(\u001b[38;5;124m\"\u001b[39m\u001b[38;5;124mC\u001b[39m\u001b[38;5;124m\"\u001b[39m)\n\u001b[0;32m      9\u001b[0m         \u001b[38;5;28;01mcase\u001b[39;00m\u001b[38;5;250m \u001b[39m\u001b[38;5;28;01m_\u001b[39;00m  \u001b[38;5;28;01mif\u001b[39;00m grade \u001b[38;5;241m>\u001b[39m\u001b[38;5;241m=\u001b[39m\u001b[38;5;241m30\u001b[39m:\n\u001b[0;32m     10\u001b[0m              \u001b[38;5;28mprint\u001b[39m(\u001b[38;5;124m\"\u001b[39m\u001b[38;5;124mD\u001b[39m\u001b[38;5;124m\"\u001b[39m)\n\u001b[0;32m     11\u001b[0m         \u001b[38;5;28;01mcase\u001b[39;00m\u001b[38;5;250m \u001b[39m\u001b[38;5;28;01m_\u001b[39;00m  \u001b[38;5;28;01mif\u001b[39;00m grade \u001b[38;5;241m>\u001b[39m\u001b[38;5;241m=\u001b[39m\u001b[38;5;241m0\u001b[39m:\n\u001b[0;32m     12\u001b[0m              \u001b[38;5;28mprint\u001b[39m(\u001b[38;5;124m\"\u001b[39m\u001b[38;5;124mE\u001b[39m\u001b[38;5;124m\"\u001b[39m)\n",
      "\u001b[1;31mTypeError\u001b[0m: '>=' not supported between instances of 'str' and 'int'"
     ]
    }
   ],
   "source": [
    "grade = input(grade)\n",
    "match(grade):\n",
    "        case _ if grade >= 90: \n",
    "            print(\"A\")\n",
    "        case _ if grade >=70:\n",
    "             print(\"B\")\n",
    "        case _ if grade >=50:\n",
    "             print(\"C\")\n",
    "        case _  if grade >=30:\n",
    "             print(\"D\")\n",
    "        case _  if grade >=0:\n",
    "             print(\"E\")"
   ]
  },
  {
   "cell_type": "code",
   "execution_count": 150,
   "id": "351b7cb0",
   "metadata": {},
   "outputs": [
    {
     "ename": "ValueError",
     "evalue": "empty separator",
     "output_type": "error",
     "traceback": [
      "\u001b[1;31m---------------------------------------------------------------------------\u001b[0m",
      "\u001b[1;31mValueError\u001b[0m                                Traceback (most recent call last)",
      "Cell \u001b[1;32mIn[150], line 2\u001b[0m\n\u001b[0;32m      1\u001b[0m word \u001b[38;5;241m=\u001b[39m \u001b[38;5;124m\"\u001b[39m\u001b[38;5;124maeye\u001b[39m\u001b[38;5;124m\"\u001b[39m\n\u001b[1;32m----> 2\u001b[0m word\u001b[38;5;241m.\u001b[39msplit(\u001b[38;5;124m\"\u001b[39m\u001b[38;5;124m\"\u001b[39m)\n",
      "\u001b[1;31mValueError\u001b[0m: empty separator"
     ]
    }
   ],
   "source": [
    "word = \"aeye\"\n",
    "word.split(\"\")"
   ]
  },
  {
   "cell_type": "code",
   "execution_count": 178,
   "id": "91a5a43b",
   "metadata": {},
   "outputs": [
    {
     "name": "stdout",
     "output_type": "stream",
     "text": [
      "Enter a word: madam\n",
      "is palindrom\n"
     ]
    }
   ],
   "source": [
    "word = input(\"Enter a word: \") \n",
    "reversed_word = word[::-1]\n",
    "if word == reversed_word:\n",
    "    print(\"is palindrom\")\n",
    "else:\n",
    "    print(\"Not Palindrom\") "
   ]
  },
  {
   "cell_type": "code",
   "execution_count": 185,
   "id": "f6ad71cf",
   "metadata": {},
   "outputs": [],
   "source": [
    "# Function --is a block of code that can be reused and it starts with def\n",
    "\n",
    "def add_numbers():\n",
    "    return 2 + 2\n"
   ]
  },
  {
   "cell_type": "code",
   "execution_count": 188,
   "id": "e84ef886",
   "metadata": {},
   "outputs": [
    {
     "data": {
      "text/plain": [
       "4"
      ]
     },
     "execution_count": 188,
     "metadata": {},
     "output_type": "execute_result"
    }
   ],
   "source": [
    "add_numbers()"
   ]
  },
  {
   "cell_type": "code",
   "execution_count": 200,
   "id": "531957f2",
   "metadata": {},
   "outputs": [],
   "source": [
    "# function parameters\n",
    "def add_numbers(x,y):\n",
    "    return {x + y}\n",
    "\n"
   ]
  },
  {
   "cell_type": "code",
   "execution_count": null,
   "id": "39103dd0",
   "metadata": {},
   "outputs": [],
   "source": [
    "def add_numbers(x,y):\n",
    "    return {x + y}\n"
   ]
  },
  {
   "cell_type": "code",
   "execution_count": 202,
   "id": "c807e5b6",
   "metadata": {},
   "outputs": [
    {
     "data": {
      "text/plain": [
       "{7}"
      ]
     },
     "execution_count": 202,
     "metadata": {},
     "output_type": "execute_result"
    }
   ],
   "source": [
    "add_numbers(3,4)"
   ]
  },
  {
   "cell_type": "code",
   "execution_count": 211,
   "id": "f7a1eeb8",
   "metadata": {},
   "outputs": [
    {
     "data": {
      "text/plain": [
       "<function __main__.<lambda>(x, y)>"
      ]
     },
     "execution_count": 211,
     "metadata": {},
     "output_type": "execute_result"
    }
   ],
   "source": [
    "lambda x, y: x + y\n",
    "\n"
   ]
  },
  {
   "cell_type": "code",
   "execution_count": 220,
   "id": "32713d0a",
   "metadata": {},
   "outputs": [
    {
     "data": {
      "text/plain": [
       "9"
      ]
     },
     "execution_count": 220,
     "metadata": {},
     "output_type": "execute_result"
    }
   ],
   "source": [
    "# module --- modules is the process of importing code that are written somewhere and use it in youe code\n",
    "import calculate\n",
    "calculate.add_it(3,6)\n"
   ]
  },
  {
   "cell_type": "code",
   "execution_count": 221,
   "id": "8e25bfba",
   "metadata": {},
   "outputs": [
    {
     "data": {
      "text/plain": [
       "15"
      ]
     },
     "execution_count": 221,
     "metadata": {},
     "output_type": "execute_result"
    }
   ],
   "source": [
    "from calculate import *\n",
    "add_it(7,8)"
   ]
  },
  {
   "cell_type": "code",
   "execution_count": 235,
   "id": "059d3c23",
   "metadata": {},
   "outputs": [
    {
     "data": {
      "text/plain": [
       "15"
      ]
     },
     "execution_count": 235,
     "metadata": {},
     "output_type": "execute_result"
    }
   ],
   "source": [
    "#  Working with file\n",
    "file = open(\"newpythonclass\", \"w\")\n",
    "file.write(\"This is magical\")\n"
   ]
  },
  {
   "cell_type": "code",
   "execution_count": 236,
   "id": "d74804e5",
   "metadata": {},
   "outputs": [],
   "source": [
    "# ls"
   ]
  },
  {
   "cell_type": "code",
   "execution_count": 234,
   "id": "e8e29122",
   "metadata": {},
   "outputs": [
    {
     "data": {
      "text/plain": [
       "'This is magical'"
      ]
     },
     "execution_count": 234,
     "metadata": {},
     "output_type": "execute_result"
    }
   ],
   "source": [
    "# Reading file\n",
    "file = open(\"newpythonclass\")\n",
    "file.read()"
   ]
  },
  {
   "cell_type": "code",
   "execution_count": 246,
   "id": "56088daf",
   "metadata": {},
   "outputs": [
    {
     "data": {
      "text/plain": [
       "16"
      ]
     },
     "execution_count": 246,
     "metadata": {},
     "output_type": "execute_result"
    }
   ],
   "source": [
    "file = open(\"newpythonclass\", \"w\")\n",
    "file.write(\"Life is not hard\")\n"
   ]
  },
  {
   "cell_type": "code",
   "execution_count": 247,
   "id": "bd997720",
   "metadata": {},
   "outputs": [
    {
     "data": {
      "text/plain": [
       "'Life is not hard'"
      ]
     },
     "execution_count": 247,
     "metadata": {},
     "output_type": "execute_result"
    }
   ],
   "source": [
    "file = open(\"newpythonclass\", \"r\")\n",
    "file.read()"
   ]
  },
  {
   "cell_type": "code",
   "execution_count": 248,
   "id": "4078ccb5",
   "metadata": {},
   "outputs": [
    {
     "data": {
      "text/plain": [
       "20"
      ]
     },
     "execution_count": 248,
     "metadata": {},
     "output_type": "execute_result"
    }
   ],
   "source": [
    "file = open(\"newpythonclass\", \"a\")\n",
    "file.write(\"\\nThis is interesting\")"
   ]
  },
  {
   "cell_type": "code",
   "execution_count": 249,
   "id": "1b216426",
   "metadata": {},
   "outputs": [
    {
     "name": "stdout",
     "output_type": "stream",
     "text": [
      "Life is not hard\n",
      "This is interesting\n"
     ]
    }
   ],
   "source": [
    "file = open(\"newpythonclass\", \"r\")\n",
    "print(file.read())\n"
   ]
  },
  {
   "cell_type": "code",
   "execution_count": 250,
   "id": "375d2821",
   "metadata": {},
   "outputs": [],
   "source": [
    "# numpy is a python library for generating sample data and working with multi dimensional arrays"
   ]
  },
  {
   "cell_type": "code",
   "execution_count": 251,
   "id": "81f3e8f6",
   "metadata": {},
   "outputs": [
    {
     "data": {
      "text/plain": [
       "[1, 2, 3, 5, 2, 3, 4, 5]"
      ]
     },
     "execution_count": 251,
     "metadata": {},
     "output_type": "execute_result"
    }
   ],
   "source": [
    "one = [1,2,3,5]\n",
    "two = [2,3,4,5]\n",
    "one + two"
   ]
  },
  {
   "cell_type": "code",
   "execution_count": 258,
   "id": "aacb5f5c",
   "metadata": {},
   "outputs": [],
   "source": [
    "# import numpy library and alias it as np\n",
    "import numpy as np"
   ]
  },
  {
   "cell_type": "code",
   "execution_count": null,
   "id": "3fbe1a15",
   "metadata": {},
   "outputs": [],
   "source": []
  },
  {
   "cell_type": "code",
   "execution_count": 257,
   "id": "5f373549",
   "metadata": {},
   "outputs": [
    {
     "data": {
      "text/plain": [
       "array([0.5       , 0.66666667, 0.75      , 1.        ])"
      ]
     },
     "execution_count": 257,
     "metadata": {},
     "output_type": "execute_result"
    }
   ],
   "source": [
    "# using different operator\n",
    "np.array(one) / np.array(two)"
   ]
  },
  {
   "cell_type": "code",
   "execution_count": 259,
   "id": "583e1fe5",
   "metadata": {},
   "outputs": [
    {
     "data": {
      "text/plain": [
       "array([0, 1, 2, 3, 4])"
      ]
     },
     "execution_count": 259,
     "metadata": {},
     "output_type": "execute_result"
    }
   ],
   "source": [
    "# generate sample data\n",
    "np.arange(5)"
   ]
  },
  {
   "cell_type": "code",
   "execution_count": 261,
   "id": "9ff23816",
   "metadata": {},
   "outputs": [
    {
     "data": {
      "text/plain": [
       "array([ 1,  2,  3,  4,  5,  6,  7,  8,  9, 10])"
      ]
     },
     "execution_count": 261,
     "metadata": {},
     "output_type": "execute_result"
    }
   ],
   "source": [
    "np.arange(1,11)"
   ]
  },
  {
   "cell_type": "code",
   "execution_count": 262,
   "id": "02e22fc0",
   "metadata": {},
   "outputs": [
    {
     "data": {
      "text/plain": [
       "array([1, 3, 5, 7, 9])"
      ]
     },
     "execution_count": 262,
     "metadata": {},
     "output_type": "execute_result"
    }
   ],
   "source": [
    "np.arange(1,11,2)"
   ]
  },
  {
   "cell_type": "code",
   "execution_count": 274,
   "id": "0cb18a6f",
   "metadata": {},
   "outputs": [
    {
     "data": {
      "text/plain": [
       "0.3409714756264628"
      ]
     },
     "execution_count": 274,
     "metadata": {},
     "output_type": "execute_result"
    }
   ],
   "source": [
    "# generate random data\n",
    "np.random.rand()"
   ]
  },
  {
   "cell_type": "code",
   "execution_count": 276,
   "id": "9dfa7dce",
   "metadata": {},
   "outputs": [
    {
     "data": {
      "text/plain": [
       "array([[0.92621648, 0.44834142, 0.62778829, 0.33066335, 0.89142384],\n",
       "       [0.81849078, 0.82884419, 0.27920705, 0.23023762, 0.78918013],\n",
       "       [0.32620159, 0.23553526, 0.16875957, 0.37673224, 0.63888386]])"
      ]
     },
     "execution_count": 276,
     "metadata": {},
     "output_type": "execute_result"
    }
   ],
   "source": [
    "np.random.rand(3,5)"
   ]
  },
  {
   "cell_type": "code",
   "execution_count": 266,
   "id": "50713d1a",
   "metadata": {},
   "outputs": [],
   "source": [
    "matrix = [[1,2,3,4],[5,6,7,8],[4,4,4,7]]"
   ]
  },
  {
   "cell_type": "code",
   "execution_count": 267,
   "id": "b33359fd",
   "metadata": {},
   "outputs": [
    {
     "data": {
      "text/plain": [
       "[[1, 2, 3, 4], [5, 6, 7, 8], [4, 4, 4, 7]]"
      ]
     },
     "execution_count": 267,
     "metadata": {},
     "output_type": "execute_result"
    }
   ],
   "source": [
    "matrix"
   ]
  },
  {
   "cell_type": "code",
   "execution_count": 270,
   "id": "960a969f",
   "metadata": {},
   "outputs": [
    {
     "data": {
      "text/plain": [
       "array([[1, 2, 3, 4],\n",
       "       [5, 6, 7, 8],\n",
       "       [4, 4, 4, 7]])"
      ]
     },
     "execution_count": 270,
     "metadata": {},
     "output_type": "execute_result"
    }
   ],
   "source": [
    "matrix = np.array(matrix)\n",
    "matrix"
   ]
  },
  {
   "cell_type": "code",
   "execution_count": 272,
   "id": "3e839309",
   "metadata": {},
   "outputs": [
    {
     "data": {
      "text/plain": [
       "(3, 4)"
      ]
     },
     "execution_count": 272,
     "metadata": {},
     "output_type": "execute_result"
    }
   ],
   "source": [
    "# numpy array properties\n",
    "matrix.shape"
   ]
  },
  {
   "cell_type": "code",
   "execution_count": 277,
   "id": "fcfef0c6",
   "metadata": {},
   "outputs": [
    {
     "data": {
      "text/plain": [
       "2"
      ]
     },
     "execution_count": 277,
     "metadata": {},
     "output_type": "execute_result"
    }
   ],
   "source": [
    "matrix.ndim"
   ]
  },
  {
   "cell_type": "code",
   "execution_count": 278,
   "id": "755ba199",
   "metadata": {},
   "outputs": [
    {
     "data": {
      "text/plain": [
       "dtype('int32')"
      ]
     },
     "execution_count": 278,
     "metadata": {},
     "output_type": "execute_result"
    }
   ],
   "source": [
    "matrix.dtype"
   ]
  },
  {
   "cell_type": "code",
   "execution_count": 279,
   "id": "26bb1e53",
   "metadata": {},
   "outputs": [
    {
     "data": {
      "text/plain": [
       "12"
      ]
     },
     "execution_count": 279,
     "metadata": {},
     "output_type": "execute_result"
    }
   ],
   "source": [
    "matrix.size"
   ]
  },
  {
   "cell_type": "code",
   "execution_count": 283,
   "id": "cfeed172",
   "metadata": {},
   "outputs": [
    {
     "data": {
      "text/plain": [
       "array([ 1,  2,  3,  4,  5,  6,  7,  8,  9, 10, 11, 12, 13, 14, 15, 16, 17,\n",
       "       18, 19, 20, 21, 22, 23, 24])"
      ]
     },
     "execution_count": 283,
     "metadata": {},
     "output_type": "execute_result"
    }
   ],
   "source": [
    "x = np.arange(1,25)\n",
    "x"
   ]
  },
  {
   "cell_type": "code",
   "execution_count": 285,
   "id": "060705e1",
   "metadata": {},
   "outputs": [
    {
     "data": {
      "text/plain": [
       "array([[ 1,  2,  3,  4,  5,  6,  7,  8,  9, 10, 11, 12],\n",
       "       [13, 14, 15, 16, 17, 18, 19, 20, 21, 22, 23, 24]])"
      ]
     },
     "execution_count": 285,
     "metadata": {},
     "output_type": "execute_result"
    }
   ],
   "source": [
    "x.reshape(2,12)"
   ]
  },
  {
   "cell_type": "code",
   "execution_count": 286,
   "id": "871b9679",
   "metadata": {},
   "outputs": [
    {
     "data": {
      "text/plain": [
       "array([[ 1,  2,  3,  4,  5,  6,  7,  8],\n",
       "       [ 9, 10, 11, 12, 13, 14, 15, 16],\n",
       "       [17, 18, 19, 20, 21, 22, 23, 24]])"
      ]
     },
     "execution_count": 286,
     "metadata": {},
     "output_type": "execute_result"
    }
   ],
   "source": [
    "x.reshape(3,8)"
   ]
  },
  {
   "cell_type": "code",
   "execution_count": 287,
   "id": "c7e03fa7",
   "metadata": {},
   "outputs": [
    {
     "data": {
      "text/plain": [
       "array([[ 1,  2,  3,  4],\n",
       "       [ 5,  6,  7,  8],\n",
       "       [ 9, 10, 11, 12],\n",
       "       [13, 14, 15, 16],\n",
       "       [17, 18, 19, 20],\n",
       "       [21, 22, 23, 24]])"
      ]
     },
     "execution_count": 287,
     "metadata": {},
     "output_type": "execute_result"
    }
   ],
   "source": [
    "x.reshape(6,4)"
   ]
  },
  {
   "cell_type": "code",
   "execution_count": 289,
   "id": "c1aeb0a5",
   "metadata": {},
   "outputs": [
    {
     "data": {
      "text/plain": [
       "24"
      ]
     },
     "execution_count": 289,
     "metadata": {},
     "output_type": "execute_result"
    }
   ],
   "source": [
    "x.size"
   ]
  },
  {
   "cell_type": "code",
   "execution_count": 294,
   "id": "7c5e345b",
   "metadata": {},
   "outputs": [
    {
     "data": {
      "text/plain": [
       "-0.2372632106325324"
      ]
     },
     "execution_count": 294,
     "metadata": {},
     "output_type": "execute_result"
    }
   ],
   "source": [
    "# randn can generate floating values below 0 and above 1\n",
    "np.random.randn()"
   ]
  },
  {
   "cell_type": "code",
   "execution_count": 296,
   "id": "d18594ee",
   "metadata": {},
   "outputs": [
    {
     "data": {
      "text/plain": [
       "array([[ 0.45150882,  1.31459127,  0.61488786,  0.87807666,  0.21177101],\n",
       "       [-1.40848391, -0.20891952,  1.21878375, -0.17011665, -1.64593757],\n",
       "       [ 0.85472548, -0.44480642, -0.63878559,  1.79122341, -1.01171243],\n",
       "       [ 1.05111142, -0.8989761 , -1.00446972, -0.31366055,  0.59729604],\n",
       "       [-0.51259473,  0.69999677,  0.51961695,  1.14812068,  0.38679537],\n",
       "       [-1.58667652, -0.29769955, -1.03171017, -0.85175895,  0.43779351],\n",
       "       [ 0.11175238, -0.3703627 ,  0.59275489,  2.5481845 , -0.26896606],\n",
       "       [ 1.27571639,  0.32863848,  0.88377558,  0.72701947,  0.75945107],\n",
       "       [ 0.04476162, -1.93558837,  1.2432193 ,  0.16041486, -1.39991046],\n",
       "       [-2.19339287, -0.19688625,  1.28179144,  0.60896241, -0.31513776]])"
      ]
     },
     "execution_count": 296,
     "metadata": {},
     "output_type": "execute_result"
    }
   ],
   "source": [
    "np.random.randn(10,5)"
   ]
  },
  {
   "cell_type": "code",
   "execution_count": 307,
   "id": "368b4268",
   "metadata": {},
   "outputs": [
    {
     "data": {
      "text/plain": [
       "2"
      ]
     },
     "execution_count": 307,
     "metadata": {},
     "output_type": "execute_result"
    }
   ],
   "source": [
    "np.random.randint(5)"
   ]
  },
  {
   "cell_type": "code",
   "execution_count": 311,
   "id": "8aa9df46",
   "metadata": {},
   "outputs": [
    {
     "data": {
      "text/plain": [
       "array([20,  6,  4, 19,  5, 16,  3,  2, 16,  5])"
      ]
     },
     "execution_count": 311,
     "metadata": {},
     "output_type": "execute_result"
    }
   ],
   "source": [
    "np.random.randint(2,21,10)"
   ]
  },
  {
   "cell_type": "code",
   "execution_count": 314,
   "id": "fa7dc981",
   "metadata": {},
   "outputs": [
    {
     "data": {
      "text/plain": [
       "array([ 1.        ,  1.20408163,  1.40816327,  1.6122449 ,  1.81632653,\n",
       "        2.02040816,  2.2244898 ,  2.42857143,  2.63265306,  2.83673469,\n",
       "        3.04081633,  3.24489796,  3.44897959,  3.65306122,  3.85714286,\n",
       "        4.06122449,  4.26530612,  4.46938776,  4.67346939,  4.87755102,\n",
       "        5.08163265,  5.28571429,  5.48979592,  5.69387755,  5.89795918,\n",
       "        6.10204082,  6.30612245,  6.51020408,  6.71428571,  6.91836735,\n",
       "        7.12244898,  7.32653061,  7.53061224,  7.73469388,  7.93877551,\n",
       "        8.14285714,  8.34693878,  8.55102041,  8.75510204,  8.95918367,\n",
       "        9.16326531,  9.36734694,  9.57142857,  9.7755102 ,  9.97959184,\n",
       "       10.18367347, 10.3877551 , 10.59183673, 10.79591837, 11.        ])"
      ]
     },
     "execution_count": 314,
     "metadata": {},
     "output_type": "execute_result"
    }
   ],
   "source": [
    "# used to generate evenly spaced floating numbers\n",
    "np.linspace(1,11)"
   ]
  },
  {
   "cell_type": "code",
   "execution_count": 317,
   "id": "87d757bf",
   "metadata": {},
   "outputs": [
    {
     "data": {
      "text/plain": [
       "array([1., 3., 5.])"
      ]
     },
     "execution_count": 317,
     "metadata": {},
     "output_type": "execute_result"
    }
   ],
   "source": [
    "np.linspace(1,5,3)"
   ]
  },
  {
   "cell_type": "code",
   "execution_count": 318,
   "id": "e71b927f",
   "metadata": {},
   "outputs": [
    {
     "data": {
      "text/plain": [
       "array([1.        , 1.21052632, 1.42105263, 1.63157895, 1.84210526,\n",
       "       2.05263158, 2.26315789, 2.47368421, 2.68421053, 2.89473684,\n",
       "       3.10526316, 3.31578947, 3.52631579, 3.73684211, 3.94736842,\n",
       "       4.15789474, 4.36842105, 4.57894737, 4.78947368, 5.        ])"
      ]
     },
     "execution_count": 318,
     "metadata": {},
     "output_type": "execute_result"
    }
   ],
   "source": [
    "np.linspace(1,5,20)"
   ]
  },
  {
   "cell_type": "code",
   "execution_count": 319,
   "id": "0869d486",
   "metadata": {},
   "outputs": [
    {
     "data": {
      "text/plain": [
       "array([7, 7, 8, 8])"
      ]
     },
     "execution_count": 319,
     "metadata": {},
     "output_type": "execute_result"
    }
   ],
   "source": [
    "\n",
    "np.array([1,2,3,4]) + np.array([6,5,5,4])"
   ]
  },
  {
   "cell_type": "code",
   "execution_count": 320,
   "id": "f01e065e",
   "metadata": {},
   "outputs": [
    {
     "data": {
      "text/plain": [
       "array([ 7,  8,  9, 10])"
      ]
     },
     "execution_count": 320,
     "metadata": {},
     "output_type": "execute_result"
    }
   ],
   "source": [
    "# Broadcasting\n",
    "np.array([1,2,3,4]) + np.array([6])"
   ]
  },
  {
   "cell_type": "code",
   "execution_count": 321,
   "id": "44822829",
   "metadata": {},
   "outputs": [
    {
     "data": {
      "text/plain": [
       "array([ 7,  8,  9, 10])"
      ]
     },
     "execution_count": 321,
     "metadata": {},
     "output_type": "execute_result"
    }
   ],
   "source": [
    " np.array([6]) + np.array([1,2,3,4])"
   ]
  },
  {
   "cell_type": "code",
   "execution_count": 324,
   "id": "8d9b9e64",
   "metadata": {},
   "outputs": [],
   "source": [
    "a = np.array([[1,2,3], [4,5,6],[2,2,3]])\n",
    "b = np.array([1,2,3])"
   ]
  },
  {
   "cell_type": "code",
   "execution_count": 325,
   "id": "e24902af",
   "metadata": {},
   "outputs": [
    {
     "data": {
      "text/plain": [
       "array([[1, 2, 3],\n",
       "       [4, 5, 6],\n",
       "       [2, 2, 3]])"
      ]
     },
     "execution_count": 325,
     "metadata": {},
     "output_type": "execute_result"
    }
   ],
   "source": [
    "a"
   ]
  },
  {
   "cell_type": "code",
   "execution_count": 326,
   "id": "5d653df4",
   "metadata": {},
   "outputs": [
    {
     "data": {
      "text/plain": [
       "array([[2, 4, 6],\n",
       "       [5, 7, 9],\n",
       "       [3, 4, 6]])"
      ]
     },
     "execution_count": 326,
     "metadata": {},
     "output_type": "execute_result"
    }
   ],
   "source": [
    "a + b"
   ]
  },
  {
   "cell_type": "code",
   "execution_count": 327,
   "id": "ab2fe753",
   "metadata": {},
   "outputs": [
    {
     "data": {
      "text/plain": [
       "array([[1, 2, 3],\n",
       "       [4, 5, 6],\n",
       "       [2, 2, 3]])"
      ]
     },
     "execution_count": 327,
     "metadata": {},
     "output_type": "execute_result"
    }
   ],
   "source": [
    "# indexing of numpy\n",
    "a"
   ]
  },
  {
   "cell_type": "code",
   "execution_count": 330,
   "id": "8a027fb0",
   "metadata": {},
   "outputs": [
    {
     "data": {
      "text/plain": [
       "5"
      ]
     },
     "execution_count": 330,
     "metadata": {},
     "output_type": "execute_result"
    }
   ],
   "source": [
    "#  indexing\n",
    "a[1][1]"
   ]
  },
  {
   "cell_type": "code",
   "execution_count": 342,
   "id": "aa56df0c",
   "metadata": {},
   "outputs": [
    {
     "data": {
      "text/plain": [
       "array([[4, 5],\n",
       "       [2, 2]])"
      ]
     },
     "execution_count": 342,
     "metadata": {},
     "output_type": "execute_result"
    }
   ],
   "source": [
    "# slicing of numpy\n",
    "a[1:3,0:2]"
   ]
  },
  {
   "cell_type": "code",
   "execution_count": 336,
   "id": "2c85259e",
   "metadata": {},
   "outputs": [
    {
     "data": {
      "text/plain": [
       "array([[2],\n",
       "       [5],\n",
       "       [2]])"
      ]
     },
     "execution_count": 336,
     "metadata": {},
     "output_type": "execute_result"
    }
   ],
   "source": [
    "# slicing of numpy\n",
    "a[0:3,1:2]"
   ]
  },
  {
   "cell_type": "code",
   "execution_count": 348,
   "id": "c4b24c07",
   "metadata": {},
   "outputs": [
    {
     "data": {
      "text/plain": [
       "array([[2],\n",
       "       [5],\n",
       "       [2]])"
      ]
     },
     "execution_count": 348,
     "metadata": {},
     "output_type": "execute_result"
    }
   ],
   "source": [
    "a[:,1:2]"
   ]
  },
  {
   "cell_type": "code",
   "execution_count": 346,
   "id": "65dd90ca",
   "metadata": {},
   "outputs": [
    {
     "data": {
      "text/plain": [
       "array([[2, 2, 3]])"
      ]
     },
     "execution_count": 346,
     "metadata": {},
     "output_type": "execute_result"
    }
   ],
   "source": [
    "## slicing of numpy\n",
    "a[2:3,0:3]"
   ]
  },
  {
   "cell_type": "code",
   "execution_count": 347,
   "id": "f08e074d",
   "metadata": {},
   "outputs": [
    {
     "data": {
      "text/plain": [
       "array([[2, 2, 3]])"
      ]
     },
     "execution_count": 347,
     "metadata": {},
     "output_type": "execute_result"
    }
   ],
   "source": [
    "a[2:,:]"
   ]
  },
  {
   "cell_type": "code",
   "execution_count": 349,
   "id": "346eb14f",
   "metadata": {},
   "outputs": [
    {
     "data": {
      "text/plain": [
       "array([[1, 2, 3],\n",
       "       [4, 5, 6],\n",
       "       [2, 2, 3]])"
      ]
     },
     "execution_count": 349,
     "metadata": {},
     "output_type": "execute_result"
    }
   ],
   "source": [
    "a"
   ]
  },
  {
   "cell_type": "code",
   "execution_count": 358,
   "id": "bbda989c",
   "metadata": {},
   "outputs": [
    {
     "data": {
      "text/plain": [
       "array([ 7,  9, 12])"
      ]
     },
     "execution_count": 358,
     "metadata": {},
     "output_type": "execute_result"
    }
   ],
   "source": [
    "# summing columns\n",
    "sum(a)"
   ]
  },
  {
   "cell_type": "code",
   "execution_count": 359,
   "id": "3b17399a",
   "metadata": {},
   "outputs": [
    {
     "data": {
      "text/plain": [
       "array([ 7,  9, 12])"
      ]
     },
     "execution_count": 359,
     "metadata": {},
     "output_type": "execute_result"
    }
   ],
   "source": [
    "# summing columns\n",
    "a.sum(axis=0)"
   ]
  },
  {
   "cell_type": "code",
   "execution_count": 361,
   "id": "7e220992",
   "metadata": {},
   "outputs": [
    {
     "data": {
      "text/plain": [
       "28"
      ]
     },
     "execution_count": 361,
     "metadata": {},
     "output_type": "execute_result"
    }
   ],
   "source": [
    "# sumimg all the numbers\n",
    "a.sum()"
   ]
  },
  {
   "cell_type": "code",
   "execution_count": 362,
   "id": "5fbfb461",
   "metadata": {},
   "outputs": [
    {
     "data": {
      "text/plain": [
       "array([ 6, 15,  7])"
      ]
     },
     "execution_count": 362,
     "metadata": {},
     "output_type": "execute_result"
    }
   ],
   "source": [
    "# summing roles\n",
    "a.sum(axis=1)"
   ]
  },
  {
   "cell_type": "code",
   "execution_count": 365,
   "id": "d91788b1",
   "metadata": {},
   "outputs": [
    {
     "data": {
      "text/plain": [
       "array([12])"
      ]
     },
     "execution_count": 365,
     "metadata": {},
     "output_type": "execute_result"
    }
   ],
   "source": [
    "# suming a particular column\n",
    "# for column 2\n",
    "a.sum(axis=0)[2:]"
   ]
  },
  {
   "cell_type": "code",
   "execution_count": 366,
   "id": "a1753978",
   "metadata": {},
   "outputs": [
    {
     "data": {
      "text/plain": [
       "array([9])"
      ]
     },
     "execution_count": 366,
     "metadata": {},
     "output_type": "execute_result"
    }
   ],
   "source": [
    "# for column 2\n",
    "a.sum(axis=0)[1:2]"
   ]
  },
  {
   "cell_type": "code",
   "execution_count": 367,
   "id": "54114830",
   "metadata": {},
   "outputs": [
    {
     "data": {
      "text/plain": [
       "array([[1, 2, 3],\n",
       "       [4, 5, 6],\n",
       "       [2, 2, 3]])"
      ]
     },
     "execution_count": 367,
     "metadata": {},
     "output_type": "execute_result"
    }
   ],
   "source": [
    "a"
   ]
  },
  {
   "cell_type": "code",
   "execution_count": 368,
   "id": "4e6814fe",
   "metadata": {},
   "outputs": [
    {
     "data": {
      "text/plain": [
       "array([[False, False, False],\n",
       "       [False,  True,  True],\n",
       "       [False, False, False]])"
      ]
     },
     "execution_count": 368,
     "metadata": {},
     "output_type": "execute_result"
    }
   ],
   "source": [
    "a>4"
   ]
  },
  {
   "cell_type": "code",
   "execution_count": 371,
   "id": "477230a2",
   "metadata": {},
   "outputs": [
    {
     "data": {
      "text/plain": [
       "array([5, 6])"
      ]
     },
     "execution_count": 371,
     "metadata": {},
     "output_type": "execute_result"
    }
   ],
   "source": [
    "a[a>4]"
   ]
  },
  {
   "cell_type": "code",
   "execution_count": 388,
   "id": "b89216b9",
   "metadata": {},
   "outputs": [
    {
     "data": {
      "text/plain": [
       "array([10, 11, 12, 13, 14, 15, 16, 17, 18, 19, 20, 21, 22, 23, 24, 25, 26,\n",
       "       27, 28, 29, 30, 31, 32, 33, 34, 35, 36, 37, 38, 39, 40, 41, 42, 43,\n",
       "       44, 45, 46, 47, 48, 49, 50])"
      ]
     },
     "execution_count": 388,
     "metadata": {},
     "output_type": "execute_result"
    }
   ],
   "source": [
    "# 1. Create an array of integers from 10 to 50\n",
    "x = np.arange(10,51)\n",
    "x"
   ]
  },
  {
   "cell_type": "code",
   "execution_count": 4,
   "id": "8eeadaaf",
   "metadata": {},
   "outputs": [],
   "source": [
    "import numpy as np"
   ]
  },
  {
   "cell_type": "code",
   "execution_count": 387,
   "id": "286163b3",
   "metadata": {},
   "outputs": [
    {
     "data": {
      "text/plain": [
       "array([0, 1, 2, 3, 4, 5, 6, 7, 8])"
      ]
     },
     "execution_count": 387,
     "metadata": {},
     "output_type": "execute_result"
    }
   ],
   "source": [
    "# 2. Create a 3x3 matrix with values ranging from 0 to 8\n",
    "matrix = np.arange(0,9)\n",
    "matrix"
   ]
  },
  {
   "cell_type": "code",
   "execution_count": 389,
   "id": "c8543b20",
   "metadata": {},
   "outputs": [
    {
     "data": {
      "text/plain": [
       "array([[0, 1, 2],\n",
       "       [3, 4, 5],\n",
       "       [6, 7, 8]])"
      ]
     },
     "execution_count": 389,
     "metadata": {},
     "output_type": "execute_result"
    }
   ],
   "source": [
    "matrix.reshape(3,3)"
   ]
  },
  {
   "cell_type": "code",
   "execution_count": 404,
   "id": "829bf8e4",
   "metadata": {},
   "outputs": [
    {
     "data": {
      "text/plain": [
       "array([ 1.32307253, -0.51870798, -0.25435408,  0.77665245, -0.92053791,\n",
       "       -0.4417108 ,  0.19217076,  0.12054089,  0.98850668,  1.14194744,\n",
       "        1.47584673, -0.31438181, -0.58114655,  1.04518942,  2.41764484,\n",
       "       -0.74490098, -0.67189505, -0.13919722, -1.2023241 ,  0.35117619,\n",
       "        1.41418846, -1.88830005,  2.43514735,  0.0210393 , -1.20621246])"
      ]
     },
     "execution_count": 404,
     "metadata": {},
     "output_type": "execute_result"
    }
   ],
   "source": [
    "# 3. Use NumPy to generate an array of 25 random numbers sampled from a standard normal distribution<br><br>\n",
    "np.random.randn(25)"
   ]
  },
  {
   "cell_type": "code",
   "execution_count": 416,
   "id": "2d6ded07",
   "metadata": {},
   "outputs": [
    {
     "data": {
      "text/plain": [
       "array([0.01, 0.02, 0.03, 0.04, 0.05, 0.06, 0.07, 0.08, 0.09, 0.1 , 0.11,\n",
       "       0.12, 0.13, 0.14, 0.15, 0.16, 0.17, 0.18, 0.19, 0.2 , 0.21, 0.22,\n",
       "       0.23, 0.24, 0.25, 0.26, 0.27, 0.28, 0.29, 0.3 , 0.31, 0.32, 0.33,\n",
       "       0.34, 0.35, 0.36, 0.37, 0.38, 0.39, 0.4 , 0.41, 0.42, 0.43, 0.44,\n",
       "       0.45, 0.46, 0.47, 0.48, 0.49, 0.5 , 0.51, 0.52, 0.53, 0.54, 0.55,\n",
       "       0.56, 0.57, 0.58, 0.59, 0.6 , 0.61, 0.62, 0.63, 0.64, 0.65, 0.66,\n",
       "       0.67, 0.68, 0.69, 0.7 , 0.71, 0.72, 0.73, 0.74, 0.75, 0.76, 0.77,\n",
       "       0.78, 0.79, 0.8 , 0.81, 0.82, 0.83, 0.84, 0.85, 0.86, 0.87, 0.88,\n",
       "       0.89, 0.9 , 0.91, 0.92, 0.93, 0.94, 0.95, 0.96, 0.97, 0.98, 0.99,\n",
       "       1.  ])"
      ]
     },
     "execution_count": 416,
     "metadata": {},
     "output_type": "execute_result"
    }
   ],
   "source": [
    "# 4. create this matrix\n",
    "\n",
    "# array([[0.01, 0.02, 0.03, 0.04, 0.05, 0.06, 0.07, 0.08, 0.09, 0.1 ],\n",
    "#        [0.11, 0.12, 0.13, 0.14, 0.15, 0.16, 0.17, 0.18, 0.19, 0.2 ],\n",
    "#        [0.21, 0.22, 0.23, 0.24, 0.25, 0.26, 0.27, 0.28, 0.29, 0.3 ],\n",
    "#        [0.31, 0.32, 0.33, 0.34, 0.35, 0.36, 0.37, 0.38, 0.39, 0.4 ],\n",
    "#        [0.41, 0.42, 0.43, 0.44, 0.45, 0.46, 0.47, 0.48, 0.49, 0.5 ],\n",
    "#        [0.51, 0.52, 0.53, 0.54, 0.55, 0.56, 0.57, 0.58, 0.59, 0.6 ],\n",
    "#        [0.61, 0.62, 0.63, 0.64, 0.65, 0.66, 0.67, 0.68, 0.69, 0.7 ],\n",
    "#        [0.71, 0.72, 0.73, 0.74, 0.75, 0.76, 0.77, 0.78, 0.79, 0.8 ],\n",
    "#        [0.81, 0.82, 0.83, 0.84, 0.85, 0.86, 0.87, 0.88, 0.89, 0.9 ],\n",
    "#        [0.91, 0.92, 0.93, 0.94, 0.95, 0.96, 0.97, 0.98, 0.99, 1.  ]])\n",
    "\n",
    "np.linspace(0.01,1,100)\n"
   ]
  },
  {
   "cell_type": "code",
   "execution_count": 417,
   "id": "9b5d6fa1",
   "metadata": {},
   "outputs": [
    {
     "data": {
      "text/plain": [
       "array([0.        , 0.05263158, 0.10526316, 0.15789474, 0.21052632,\n",
       "       0.26315789, 0.31578947, 0.36842105, 0.42105263, 0.47368421,\n",
       "       0.52631579, 0.57894737, 0.63157895, 0.68421053, 0.73684211,\n",
       "       0.78947368, 0.84210526, 0.89473684, 0.94736842, 1.        ])"
      ]
     },
     "execution_count": 417,
     "metadata": {},
     "output_type": "execute_result"
    }
   ],
   "source": [
    "# 5. Create an array of 20 linearly spaced points between 0 and 1:\n",
    "# Like the one below\n",
    "# array([0.        , 0.05263158, 0.10526316, 0.15789474, 0.21052632,\n",
    "#        0.26315789, 0.31578947, 0.36842105, 0.42105263, 0.47368421,\n",
    "#        0.52631579, 0.57894737, 0.63157895, 0.68421053, 0.73684211,\n",
    "#        0.78947368, 0.84210526, 0.89473684, 0.94736842, 1.        ])\n",
    "# NB: use this data to solve subsequent challenges\n",
    "\n",
    "# data = np.arange(1,26).reshape(5,5)\n",
    "# data\n",
    "\n",
    "\n",
    "np.linspace(0,1,20)"
   ]
  },
  {
   "cell_type": "code",
   "execution_count": 418,
   "id": "99347f74",
   "metadata": {},
   "outputs": [],
   "source": [
    "data = np.linspace(0,1,20)"
   ]
  },
  {
   "cell_type": "code",
   "execution_count": 423,
   "id": "e67fa040",
   "metadata": {},
   "outputs": [
    {
     "data": {
      "text/plain": [
       "array([ 1,  2,  3,  4,  5,  6,  7,  8,  9, 10, 11, 12, 13, 14, 15, 16, 17,\n",
       "       18, 19, 20, 21, 22, 23, 24, 25])"
      ]
     },
     "execution_count": 423,
     "metadata": {},
     "output_type": "execute_result"
    }
   ],
   "source": [
    "data = np.arange(1,26)\n",
    "data"
   ]
  },
  {
   "cell_type": "code",
   "execution_count": 6,
   "id": "903a13de",
   "metadata": {},
   "outputs": [
    {
     "data": {
      "text/plain": [
       "array([[ 1,  2,  3,  4,  5],\n",
       "       [ 6,  7,  8,  9, 10],\n",
       "       [11, 12, 13, 14, 15],\n",
       "       [16, 17, 18, 19, 20],\n",
       "       [21, 22, 23, 24, 25]])"
      ]
     },
     "execution_count": 6,
     "metadata": {},
     "output_type": "execute_result"
    }
   ],
   "source": [
    "# 7. bring out the follow from data above\n",
    "# array([[12, 13, 14, 15],\n",
    "#        [17, 18, 19, 20],\n",
    "#        [22, 23, 24, 25]])\n",
    "data = np.arange(1,26).reshape(5,5)\n",
    "data"
   ]
  },
  {
   "cell_type": "code",
   "execution_count": 452,
   "id": "14733b8e",
   "metadata": {},
   "outputs": [
    {
     "data": {
      "text/plain": [
       "array([[12, 13, 14, 15],\n",
       "       [17, 18, 19, 20],\n",
       "       [22, 23, 24, 25]])"
      ]
     },
     "execution_count": 452,
     "metadata": {},
     "output_type": "execute_result"
    }
   ],
   "source": [
    "data[2:,1:]"
   ]
  },
  {
   "cell_type": "code",
   "execution_count": 459,
   "id": "79aa48ce",
   "metadata": {},
   "outputs": [
    {
     "data": {
      "text/plain": [
       "array([[ 2],\n",
       "       [ 7],\n",
       "       [12]])"
      ]
     },
     "execution_count": 459,
     "metadata": {},
     "output_type": "execute_result"
    }
   ],
   "source": [
    "# 8. produce the output below from the data above\n",
    "# array([[ 2],\n",
    "#        [ 7],\n",
    "#        [12]])\n",
    "data[0:3,1:2]"
   ]
  },
  {
   "cell_type": "code",
   "execution_count": 460,
   "id": "aba8d127",
   "metadata": {},
   "outputs": [
    {
     "data": {
      "text/plain": [
       "array([21, 22, 23, 24, 25])"
      ]
     },
     "execution_count": 460,
     "metadata": {},
     "output_type": "execute_result"
    }
   ],
   "source": [
    "# 9. produce the output below from the data above\n",
    "# array([21, 22, 23, 24, 25])\n",
    "data[4,0:]"
   ]
  },
  {
   "cell_type": "code",
   "execution_count": 7,
   "id": "a716a159",
   "metadata": {},
   "outputs": [
    {
     "data": {
      "text/plain": [
       "325"
      ]
     },
     "execution_count": 7,
     "metadata": {},
     "output_type": "execute_result"
    }
   ],
   "source": [
    "# 10. Get the sum of all the values in data\n",
    "np.sum(data)"
   ]
  },
  {
   "cell_type": "code",
   "execution_count": 9,
   "id": "95406caf",
   "metadata": {},
   "outputs": [
    {
     "data": {
      "text/plain": [
       "array([55, 60, 65, 70, 75])"
      ]
     },
     "execution_count": 9,
     "metadata": {},
     "output_type": "execute_result"
    }
   ],
   "source": [
    "# 11. Get the sum of all the columns in data\n",
    "np.sum(data, axis=0)"
   ]
  },
  {
   "cell_type": "code",
   "execution_count": null,
   "id": "1351917f",
   "metadata": {},
   "outputs": [],
   "source": [
    "np."
   ]
  }
 ],
 "metadata": {
  "kernelspec": {
   "display_name": "Python 3 (ipykernel)",
   "language": "python",
   "name": "python3"
  },
  "language_info": {
   "codemirror_mode": {
    "name": "ipython",
    "version": 3
   },
   "file_extension": ".py",
   "mimetype": "text/x-python",
   "name": "python",
   "nbconvert_exporter": "python",
   "pygments_lexer": "ipython3",
   "version": "3.11.5"
  }
 },
 "nbformat": 4,
 "nbformat_minor": 5
}
